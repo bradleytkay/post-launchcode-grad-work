{
    "metadata": {
        "kernelspec": {
            "name": "SQL",
            "display_name": "SQL",
            "language": "sql"
        },
        "language_info": {
            "name": "sql",
            "version": ""
        }
    },
    "nbformat_minor": 2,
    "nbformat": 4,
    "cells": [
        {
            "cell_type": "markdown",
            "source": [
                "**1\\. Get a high-level understanding of each table in the database.**"
            ],
            "metadata": {
                "azdata_cell_guid": "5af2fca6-8168-4cef-8ca2-c92cd5d6c62f"
            },
            "attachments": {}
        },
        {
            "cell_type": "code",
            "source": [
                "SELECT TOP 5 *\n",
                "FROM OnlineShoppingDB.dbo.customers"
            ],
            "metadata": {
                "azdata_cell_guid": "8f776408-e2e0-40b5-9e2b-20185c314194",
                "language": "sql"
            },
            "outputs": [
                {
                    "output_type": "display_data",
                    "data": {
                        "text/html": "(5 rows affected)"
                    },
                    "metadata": {}
                },
                {
                    "output_type": "display_data",
                    "data": {
                        "text/html": "Total execution time: 00:00:00.032"
                    },
                    "metadata": {}
                },
                {
                    "output_type": "execute_result",
                    "metadata": {},
                    "execution_count": 1,
                    "data": {
                        "application/vnd.dataresource+json": {
                            "schema": {
                                "fields": [
                                    {
                                        "name": "customer_id"
                                    },
                                    {
                                        "name": "first_name"
                                    },
                                    {
                                        "name": "last_name"
                                    },
                                    {
                                        "name": "address"
                                    },
                                    {
                                        "name": "email"
                                    },
                                    {
                                        "name": "phone_number"
                                    }
                                ]
                            },
                            "data": [
                                {
                                    "customer_id": "1",
                                    "first_name": "James",
                                    "last_name": "Smith",
                                    "address": "123 Main St, Springfield, IL",
                                    "email": "jsmith1@customer.com",
                                    "phone_number": "555-190-3233"
                                },
                                {
                                    "customer_id": "2",
                                    "first_name": "James",
                                    "last_name": "Johnson",
                                    "address": "123 Main St, Springfield, IL",
                                    "email": "jjohnson2@customer.com",
                                    "phone_number": "555-525-8357"
                                },
                                {
                                    "customer_id": "3",
                                    "first_name": "James",
                                    "last_name": "Williams",
                                    "address": "123 Main St, Springfield, IL",
                                    "email": "jwilliams3@customer.com",
                                    "phone_number": "555-933-4447"
                                },
                                {
                                    "customer_id": "4",
                                    "first_name": "James",
                                    "last_name": "Brown",
                                    "address": "123 Main St, Springfield, IL",
                                    "email": "jbrown4@customer.com",
                                    "phone_number": "555-897-0326"
                                },
                                {
                                    "customer_id": "5",
                                    "first_name": "James",
                                    "last_name": "Jones",
                                    "address": "123 Main St, Springfield, IL",
                                    "email": "jjones5@customer.com",
                                    "phone_number": "555-762-5836"
                                }
                            ]
                        },
                        "text/html": [
                            "<table>",
                            "<tr><th>customer_id</th><th>first_name</th><th>last_name</th><th>address</th><th>email</th><th>phone_number</th></tr>",
                            "<tr><td>1</td><td>James</td><td>Smith</td><td>123 Main St, Springfield, IL</td><td>jsmith1@customer.com</td><td>555-190-3233</td></tr>",
                            "<tr><td>2</td><td>James</td><td>Johnson</td><td>123 Main St, Springfield, IL</td><td>jjohnson2@customer.com</td><td>555-525-8357</td></tr>",
                            "<tr><td>3</td><td>James</td><td>Williams</td><td>123 Main St, Springfield, IL</td><td>jwilliams3@customer.com</td><td>555-933-4447</td></tr>",
                            "<tr><td>4</td><td>James</td><td>Brown</td><td>123 Main St, Springfield, IL</td><td>jbrown4@customer.com</td><td>555-897-0326</td></tr>",
                            "<tr><td>5</td><td>James</td><td>Jones</td><td>123 Main St, Springfield, IL</td><td>jjones5@customer.com</td><td>555-762-5836</td></tr>",
                            "</table>"
                        ]
                    }
                }
            ],
            "execution_count": 1
        },
        {
            "cell_type": "code",
            "source": [
                "SELECT TOP 5 *\n",
                "FROM OnlineShoppingDB.dbo.orders"
            ],
            "metadata": {
                "azdata_cell_guid": "240cd3ac-6cf7-4b86-8020-054843ecb780",
                "language": "sql"
            },
            "outputs": [
                {
                    "output_type": "display_data",
                    "data": {
                        "text/html": "(5 rows affected)"
                    },
                    "metadata": {}
                },
                {
                    "output_type": "display_data",
                    "data": {
                        "text/html": "Total execution time: 00:00:00.035"
                    },
                    "metadata": {}
                },
                {
                    "output_type": "execute_result",
                    "metadata": {},
                    "execution_count": 2,
                    "data": {
                        "application/vnd.dataresource+json": {
                            "schema": {
                                "fields": [
                                    {
                                        "name": "order_id"
                                    },
                                    {
                                        "name": "order_date"
                                    },
                                    {
                                        "name": "customer_id"
                                    },
                                    {
                                        "name": "total_price"
                                    }
                                ]
                            },
                            "data": [
                                {
                                    "order_id": "1",
                                    "order_date": "2024-10-10",
                                    "customer_id": "8002",
                                    "total_price": "165.18"
                                },
                                {
                                    "order_id": "2",
                                    "order_date": "2024-08-25",
                                    "customer_id": "5097",
                                    "total_price": "8314.5"
                                },
                                {
                                    "order_id": "3",
                                    "order_date": "2024-05-21",
                                    "customer_id": "4670",
                                    "total_price": "1775.76"
                                },
                                {
                                    "order_id": "4",
                                    "order_date": "2024-06-05",
                                    "customer_id": "3875",
                                    "total_price": "3916.47"
                                },
                                {
                                    "order_id": "5",
                                    "order_date": "2024-10-29",
                                    "customer_id": "5507",
                                    "total_price": "1478.19"
                                }
                            ]
                        },
                        "text/html": [
                            "<table>",
                            "<tr><th>order_id</th><th>order_date</th><th>customer_id</th><th>total_price</th></tr>",
                            "<tr><td>1</td><td>2024-10-10</td><td>8002</td><td>165.18</td></tr>",
                            "<tr><td>2</td><td>2024-08-25</td><td>5097</td><td>8314.5</td></tr>",
                            "<tr><td>3</td><td>2024-05-21</td><td>4670</td><td>1775.76</td></tr>",
                            "<tr><td>4</td><td>2024-06-05</td><td>3875</td><td>3916.47</td></tr>",
                            "<tr><td>5</td><td>2024-10-29</td><td>5507</td><td>1478.19</td></tr>",
                            "</table>"
                        ]
                    }
                }
            ],
            "execution_count": 2
        },
        {
            "cell_type": "code",
            "source": [
                "SELECT TOP 5 *\n",
                "FROM OnlineShoppingDB.dbo.order_items"
            ],
            "metadata": {
                "azdata_cell_guid": "9a726d06-31f3-4505-8512-a21083809bff",
                "language": "sql"
            },
            "outputs": [
                {
                    "output_type": "display_data",
                    "data": {
                        "text/html": "(5 rows affected)"
                    },
                    "metadata": {}
                },
                {
                    "output_type": "display_data",
                    "data": {
                        "text/html": "Total execution time: 00:00:00.012"
                    },
                    "metadata": {}
                },
                {
                    "output_type": "execute_result",
                    "metadata": {},
                    "execution_count": 3,
                    "data": {
                        "application/vnd.dataresource+json": {
                            "schema": {
                                "fields": [
                                    {
                                        "name": "order_item_id"
                                    },
                                    {
                                        "name": "order_id"
                                    },
                                    {
                                        "name": "product_id"
                                    },
                                    {
                                        "name": "quantity"
                                    },
                                    {
                                        "name": "price_at_purchase"
                                    }
                                ]
                            },
                            "data": [
                                {
                                    "order_item_id": "1",
                                    "order_id": "6550",
                                    "product_id": "1032",
                                    "quantity": "1",
                                    "price_at_purchase": "342.92"
                                },
                                {
                                    "order_item_id": "2",
                                    "order_id": "7324",
                                    "product_id": "1695",
                                    "quantity": "1",
                                    "price_at_purchase": "955.86"
                                },
                                {
                                    "order_item_id": "3",
                                    "order_id": "11952",
                                    "product_id": "1962",
                                    "quantity": "1",
                                    "price_at_purchase": "909.45"
                                },
                                {
                                    "order_item_id": "4",
                                    "order_id": "8938",
                                    "product_id": "1958",
                                    "quantity": "1",
                                    "price_at_purchase": "984.91"
                                },
                                {
                                    "order_item_id": "5",
                                    "order_id": "4238",
                                    "product_id": "1880",
                                    "quantity": "1",
                                    "price_at_purchase": "649.18"
                                }
                            ]
                        },
                        "text/html": [
                            "<table>",
                            "<tr><th>order_item_id</th><th>order_id</th><th>product_id</th><th>quantity</th><th>price_at_purchase</th></tr>",
                            "<tr><td>1</td><td>6550</td><td>1032</td><td>1</td><td>342.92</td></tr>",
                            "<tr><td>2</td><td>7324</td><td>1695</td><td>1</td><td>955.86</td></tr>",
                            "<tr><td>3</td><td>11952</td><td>1962</td><td>1</td><td>909.45</td></tr>",
                            "<tr><td>4</td><td>8938</td><td>1958</td><td>1</td><td>984.91</td></tr>",
                            "<tr><td>5</td><td>4238</td><td>1880</td><td>1</td><td>649.18</td></tr>",
                            "</table>"
                        ]
                    }
                }
            ],
            "execution_count": 3
        },
        {
            "cell_type": "code",
            "source": [
                "SELECT TOP 5 *\n",
                "FROM OnlineShoppingDB.dbo.payment"
            ],
            "metadata": {
                "azdata_cell_guid": "89a52ece-46dd-464c-8d3a-4df33ae11813",
                "language": "sql"
            },
            "outputs": [
                {
                    "output_type": "display_data",
                    "data": {
                        "text/html": "(5 rows affected)"
                    },
                    "metadata": {}
                },
                {
                    "output_type": "display_data",
                    "data": {
                        "text/html": "Total execution time: 00:00:00.009"
                    },
                    "metadata": {}
                },
                {
                    "output_type": "execute_result",
                    "metadata": {},
                    "execution_count": 4,
                    "data": {
                        "application/vnd.dataresource+json": {
                            "schema": {
                                "fields": [
                                    {
                                        "name": "payment_id"
                                    },
                                    {
                                        "name": "order_id"
                                    },
                                    {
                                        "name": "payment_method"
                                    },
                                    {
                                        "name": "amount"
                                    },
                                    {
                                        "name": "transaction_status"
                                    }
                                ]
                            },
                            "data": [
                                {
                                    "payment_id": "1",
                                    "order_id": "1",
                                    "payment_method": "Credit Card",
                                    "amount": "232.15",
                                    "transaction_status": "Completed"
                                },
                                {
                                    "payment_id": "2",
                                    "order_id": "2",
                                    "payment_method": "Credit Card",
                                    "amount": "454.44",
                                    "transaction_status": "Completed"
                                },
                                {
                                    "payment_id": "3",
                                    "order_id": "3",
                                    "payment_method": "Credit Card",
                                    "amount": "26.14",
                                    "transaction_status": "Completed"
                                },
                                {
                                    "payment_id": "4",
                                    "order_id": "4",
                                    "payment_method": "Credit Card",
                                    "amount": "985.7",
                                    "transaction_status": "Completed"
                                },
                                {
                                    "payment_id": "5",
                                    "order_id": "5",
                                    "payment_method": "Credit Card",
                                    "amount": "733.32",
                                    "transaction_status": "Completed"
                                }
                            ]
                        },
                        "text/html": [
                            "<table>",
                            "<tr><th>payment_id</th><th>order_id</th><th>payment_method</th><th>amount</th><th>transaction_status</th></tr>",
                            "<tr><td>1</td><td>1</td><td>Credit Card</td><td>232.15</td><td>Completed</td></tr>",
                            "<tr><td>2</td><td>2</td><td>Credit Card</td><td>454.44</td><td>Completed</td></tr>",
                            "<tr><td>3</td><td>3</td><td>Credit Card</td><td>26.14</td><td>Completed</td></tr>",
                            "<tr><td>4</td><td>4</td><td>Credit Card</td><td>985.7</td><td>Completed</td></tr>",
                            "<tr><td>5</td><td>5</td><td>Credit Card</td><td>733.32</td><td>Completed</td></tr>",
                            "</table>"
                        ]
                    }
                }
            ],
            "execution_count": 4
        },
        {
            "cell_type": "code",
            "source": [
                "SELECT TOP 5 *\n",
                "FROM OnlineShoppingDB.dbo.products"
            ],
            "metadata": {
                "azdata_cell_guid": "94a91f7f-73c4-476b-80d7-87caa6c8bc8d",
                "language": "sql"
            },
            "outputs": [
                {
                    "output_type": "display_data",
                    "data": {
                        "text/html": "(5 rows affected)"
                    },
                    "metadata": {}
                },
                {
                    "output_type": "display_data",
                    "data": {
                        "text/html": "Total execution time: 00:00:00.006"
                    },
                    "metadata": {}
                },
                {
                    "output_type": "execute_result",
                    "metadata": {},
                    "execution_count": 5,
                    "data": {
                        "application/vnd.dataresource+json": {
                            "schema": {
                                "fields": [
                                    {
                                        "name": "product_id"
                                    },
                                    {
                                        "name": "product_name"
                                    },
                                    {
                                        "name": "category"
                                    },
                                    {
                                        "name": "price"
                                    },
                                    {
                                        "name": "supplier_id"
                                    }
                                ]
                            },
                            "data": [
                                {
                                    "product_id": "1",
                                    "product_name": "Office Chair",
                                    "category": "Furniture",
                                    "price": "445.01",
                                    "supplier_id": "501"
                                },
                                {
                                    "product_id": "2",
                                    "product_name": "Coffee Maker",
                                    "category": "Home & Kitchen",
                                    "price": "937.29",
                                    "supplier_id": "502"
                                },
                                {
                                    "product_id": "3",
                                    "product_name": "Document Scanner",
                                    "category": "Electronics",
                                    "price": "940.02",
                                    "supplier_id": "503"
                                },
                                {
                                    "product_id": "4",
                                    "product_name": "Desk Mat",
                                    "category": "Accessories",
                                    "price": "76.11",
                                    "supplier_id": "504"
                                },
                                {
                                    "product_id": "5",
                                    "product_name": "Tablet Stand",
                                    "category": "Accessories",
                                    "price": "388.17",
                                    "supplier_id": "505"
                                }
                            ]
                        },
                        "text/html": [
                            "<table>",
                            "<tr><th>product_id</th><th>product_name</th><th>category</th><th>price</th><th>supplier_id</th></tr>",
                            "<tr><td>1</td><td>Office Chair</td><td>Furniture</td><td>445.01</td><td>501</td></tr>",
                            "<tr><td>2</td><td>Coffee Maker</td><td>Home &amp; Kitchen</td><td>937.29</td><td>502</td></tr>",
                            "<tr><td>3</td><td>Document Scanner</td><td>Electronics</td><td>940.02</td><td>503</td></tr>",
                            "<tr><td>4</td><td>Desk Mat</td><td>Accessories</td><td>76.11</td><td>504</td></tr>",
                            "<tr><td>5</td><td>Tablet Stand</td><td>Accessories</td><td>388.17</td><td>505</td></tr>",
                            "</table>"
                        ]
                    }
                }
            ],
            "execution_count": 5
        },
        {
            "cell_type": "code",
            "source": [
                "SELECT TOP 5 *\n",
                "FROM OnlineShoppingDB.dbo.reviews"
            ],
            "metadata": {
                "azdata_cell_guid": "35d9ee61-21bb-41d9-a7a8-88295d07fb02",
                "language": "sql"
            },
            "outputs": [
                {
                    "output_type": "display_data",
                    "data": {
                        "text/html": "(5 rows affected)"
                    },
                    "metadata": {}
                },
                {
                    "output_type": "display_data",
                    "data": {
                        "text/html": "Total execution time: 00:00:00.009"
                    },
                    "metadata": {}
                },
                {
                    "output_type": "execute_result",
                    "metadata": {},
                    "execution_count": 6,
                    "data": {
                        "application/vnd.dataresource+json": {
                            "schema": {
                                "fields": [
                                    {
                                        "name": "review_id"
                                    },
                                    {
                                        "name": "product_id"
                                    },
                                    {
                                        "name": "customer_id"
                                    },
                                    {
                                        "name": "rating"
                                    },
                                    {
                                        "name": "review_text"
                                    },
                                    {
                                        "name": "review_date"
                                    }
                                ]
                            },
                            "data": [
                                {
                                    "review_id": "1",
                                    "product_id": "16",
                                    "customer_id": "1516",
                                    "rating": "4",
                                    "review_text": "Customer service was excellent, product too.",
                                    "review_date": "2024-03-03"
                                },
                                {
                                    "review_id": "2",
                                    "product_id": "1516",
                                    "customer_id": "1516",
                                    "rating": "4",
                                    "review_text": "Customer service was excellent, product too.",
                                    "review_date": "2024-01-08"
                                },
                                {
                                    "review_id": "3",
                                    "product_id": "1566",
                                    "customer_id": "9066",
                                    "rating": "1",
                                    "review_text": "Basic functionality but reliable.",
                                    "review_date": "2024-03-23"
                                },
                                {
                                    "review_id": "4",
                                    "product_id": "66",
                                    "customer_id": "9066",
                                    "rating": "1",
                                    "review_text": "Basic functionality but reliable.",
                                    "review_date": "2024-03-25"
                                },
                                {
                                    "review_id": "5",
                                    "product_id": "1522",
                                    "customer_id": "1522",
                                    "rating": "3",
                                    "review_text": "Better than similar products I have tried.",
                                    "review_date": "2024-03-03"
                                }
                            ]
                        },
                        "text/html": [
                            "<table>",
                            "<tr><th>review_id</th><th>product_id</th><th>customer_id</th><th>rating</th><th>review_text</th><th>review_date</th></tr>",
                            "<tr><td>1</td><td>16</td><td>1516</td><td>4</td><td>Customer service was excellent, product too.</td><td>2024-03-03</td></tr>",
                            "<tr><td>2</td><td>1516</td><td>1516</td><td>4</td><td>Customer service was excellent, product too.</td><td>2024-01-08</td></tr>",
                            "<tr><td>3</td><td>1566</td><td>9066</td><td>1</td><td>Basic functionality but reliable.</td><td>2024-03-23</td></tr>",
                            "<tr><td>4</td><td>66</td><td>9066</td><td>1</td><td>Basic functionality but reliable.</td><td>2024-03-25</td></tr>",
                            "<tr><td>5</td><td>1522</td><td>1522</td><td>3</td><td>Better than similar products I have tried.</td><td>2024-03-03</td></tr>",
                            "</table>"
                        ]
                    }
                }
            ],
            "execution_count": 6
        },
        {
            "cell_type": "code",
            "source": [
                "SELECT TOP 5 *\n",
                "FROM OnlineShoppingDB.dbo.shipments"
            ],
            "metadata": {
                "azdata_cell_guid": "9208d9f0-81fe-4721-9b39-dca23a1e0377",
                "language": "sql"
            },
            "outputs": [
                {
                    "output_type": "display_data",
                    "data": {
                        "text/html": "(5 rows affected)"
                    },
                    "metadata": {}
                },
                {
                    "output_type": "display_data",
                    "data": {
                        "text/html": "Total execution time: 00:00:00.007"
                    },
                    "metadata": {}
                },
                {
                    "output_type": "execute_result",
                    "metadata": {},
                    "execution_count": 7,
                    "data": {
                        "application/vnd.dataresource+json": {
                            "schema": {
                                "fields": [
                                    {
                                        "name": "shipment_id"
                                    },
                                    {
                                        "name": "order_id"
                                    },
                                    {
                                        "name": "shipment_date"
                                    },
                                    {
                                        "name": "carrier"
                                    },
                                    {
                                        "name": "tracking_number"
                                    },
                                    {
                                        "name": "delivery_date"
                                    },
                                    {
                                        "name": "shipment_status"
                                    }
                                ]
                            },
                            "data": [
                                {
                                    "shipment_id": "1",
                                    "order_id": "1",
                                    "shipment_date": "2024-10-13",
                                    "carrier": "UPS",
                                    "tracking_number": "TRK344284",
                                    "delivery_date": "2024-10-14",
                                    "shipment_status": "Pending"
                                },
                                {
                                    "shipment_id": "2",
                                    "order_id": "2",
                                    "shipment_date": "2024-08-27",
                                    "carrier": "DHL",
                                    "tracking_number": "TRK718398",
                                    "delivery_date": "2024-08-28",
                                    "shipment_status": "Delivered"
                                },
                                {
                                    "shipment_id": "3",
                                    "order_id": "3",
                                    "shipment_date": "2024-05-23",
                                    "carrier": "FedEx",
                                    "tracking_number": "TRK161368",
                                    "delivery_date": "2024-05-31",
                                    "shipment_status": "Pending"
                                },
                                {
                                    "shipment_id": "4",
                                    "order_id": "4",
                                    "shipment_date": "2024-06-06",
                                    "carrier": "UPS",
                                    "tracking_number": "TRK890181",
                                    "delivery_date": "2024-06-10",
                                    "shipment_status": "Pending"
                                },
                                {
                                    "shipment_id": "5",
                                    "order_id": "5",
                                    "shipment_date": "2024-11-03",
                                    "carrier": "DHL",
                                    "tracking_number": "TRK681341",
                                    "delivery_date": "2024-11-08",
                                    "shipment_status": "Delivered"
                                }
                            ]
                        },
                        "text/html": [
                            "<table>",
                            "<tr><th>shipment_id</th><th>order_id</th><th>shipment_date</th><th>carrier</th><th>tracking_number</th><th>delivery_date</th><th>shipment_status</th></tr>",
                            "<tr><td>1</td><td>1</td><td>2024-10-13</td><td>UPS</td><td>TRK344284</td><td>2024-10-14</td><td>Pending</td></tr>",
                            "<tr><td>2</td><td>2</td><td>2024-08-27</td><td>DHL</td><td>TRK718398</td><td>2024-08-28</td><td>Delivered</td></tr>",
                            "<tr><td>3</td><td>3</td><td>2024-05-23</td><td>FedEx</td><td>TRK161368</td><td>2024-05-31</td><td>Pending</td></tr>",
                            "<tr><td>4</td><td>4</td><td>2024-06-06</td><td>UPS</td><td>TRK890181</td><td>2024-06-10</td><td>Pending</td></tr>",
                            "<tr><td>5</td><td>5</td><td>2024-11-03</td><td>DHL</td><td>TRK681341</td><td>2024-11-08</td><td>Delivered</td></tr>",
                            "</table>"
                        ]
                    }
                }
            ],
            "execution_count": 7
        },
        {
            "cell_type": "code",
            "source": [
                "SELECT TOp 5 *\n",
                "FROM OnlineShoppingDB.dbo.suppliers"
            ],
            "metadata": {
                "azdata_cell_guid": "d3eb8549-dce2-4307-b508-fdc0aea5fc97",
                "language": "sql"
            },
            "outputs": [
                {
                    "output_type": "display_data",
                    "data": {
                        "text/html": "(5 rows affected)"
                    },
                    "metadata": {}
                },
                {
                    "output_type": "display_data",
                    "data": {
                        "text/html": "Total execution time: 00:00:00.007"
                    },
                    "metadata": {}
                },
                {
                    "output_type": "execute_result",
                    "metadata": {},
                    "execution_count": 8,
                    "data": {
                        "application/vnd.dataresource+json": {
                            "schema": {
                                "fields": [
                                    {
                                        "name": "supplier_id"
                                    },
                                    {
                                        "name": "supplier_name"
                                    },
                                    {
                                        "name": "contact_name"
                                    },
                                    {
                                        "name": "address"
                                    },
                                    {
                                        "name": "phone_number"
                                    },
                                    {
                                        "name": "email"
                                    }
                                ]
                            },
                            "data": [
                                {
                                    "supplier_id": "501",
                                    "supplier_name": "Dynamic Systems Group",
                                    "contact_name": "Donald Benjamin",
                                    "address": "141 Shore Ln, Island City, MA",
                                    "phone_number": "(555) 484-6922",
                                    "email": "dbenjamin@supplier.com"
                                },
                                {
                                    "supplier_id": "502",
                                    "supplier_name": "Dynamic Systems Group",
                                    "contact_name": "Nicholas Dennis",
                                    "address": "161 Harbor Ln, Bay Point, FM",
                                    "phone_number": "(555) 397-6986",
                                    "email": "ndennis@supplier.com"
                                },
                                {
                                    "supplier_id": "503",
                                    "supplier_name": "Mega Suppliers",
                                    "contact_name": "Catherine Moore",
                                    "address": "151 Pearl St, Seaside, SD",
                                    "phone_number": "(555) 240-4096",
                                    "email": "cmoore@supplier.com"
                                },
                                {
                                    "supplier_id": "504",
                                    "supplier_name": "Tech Supplies Inc.",
                                    "contact_name": "Linda Virginia",
                                    "address": "505 Walnut St, Coast City, OR",
                                    "phone_number": "(555) 624-2518",
                                    "email": "lvirginia@supplier.com"
                                },
                                {
                                    "supplier_id": "505",
                                    "supplier_name": "Ultimate Services",
                                    "contact_name": "Mark Samuel",
                                    "address": "585 Lighthouse Rd, Sea Haven, LA",
                                    "phone_number": "(555) 295-9426",
                                    "email": "msamuel@supplier.com"
                                }
                            ]
                        },
                        "text/html": [
                            "<table>",
                            "<tr><th>supplier_id</th><th>supplier_name</th><th>contact_name</th><th>address</th><th>phone_number</th><th>email</th></tr>",
                            "<tr><td>501</td><td>Dynamic Systems Group</td><td>Donald Benjamin</td><td>141 Shore Ln, Island City, MA</td><td>(555) 484-6922</td><td>dbenjamin@supplier.com</td></tr>",
                            "<tr><td>502</td><td>Dynamic Systems Group</td><td>Nicholas Dennis</td><td>161 Harbor Ln, Bay Point, FM</td><td>(555) 397-6986</td><td>ndennis@supplier.com</td></tr>",
                            "<tr><td>503</td><td>Mega Suppliers</td><td>Catherine Moore</td><td>151 Pearl St, Seaside, SD</td><td>(555) 240-4096</td><td>cmoore@supplier.com</td></tr>",
                            "<tr><td>504</td><td>Tech Supplies Inc.</td><td>Linda Virginia</td><td>505 Walnut St, Coast City, OR</td><td>(555) 624-2518</td><td>lvirginia@supplier.com</td></tr>",
                            "<tr><td>505</td><td>Ultimate Services</td><td>Mark Samuel</td><td>585 Lighthouse Rd, Sea Haven, LA</td><td>(555) 295-9426</td><td>msamuel@supplier.com</td></tr>",
                            "</table>"
                        ]
                    }
                }
            ],
            "execution_count": 8
        },
        {
            "cell_type": "markdown",
            "source": [
                "**Column map:** \n",
                "\n",
                "  \n",
                "\n",
                "customers\n",
                "\n",
                "- cutsomer\\_id (Foreign Key to orders, reviews)\n",
                "- first\\_name\n",
                "- last\\_name \n",
                "- address\n",
                "- email\n",
                "- phone\\_number\n",
                "\n",
                "oders\n",
                "\n",
                "- order\\_id (Foreign Key to order\\_items, payment, shipments)\n",
                "- order\\_date\n",
                "- customer\\_id (Foriegn Key to customers, reviews)\n",
                "- total\\_price\n",
                "\n",
                "  \n",
                "\n",
                "<span style=\"font-family: -apple-system, BlinkMacSystemFont, sans-serif; color: var(--vscode-foreground);\">order_items</span>  \n",
                "\n",
                "- order\\_item\\_id\n",
                "- order\\_id (Foriegn Key to orders, payment, shipments)\n",
                "- product\\_id (Foreign Key to products, review)\n",
                "- quantity\n",
                "- price\\_at\\_purchase\n",
                "\n",
                "  \n",
                "\n",
                "<span style=\"font-family: -apple-system, BlinkMacSystemFont, sans-serif; color: var(--vscode-foreground);\">payment</span>  \n",
                "\n",
                "- payment\\_id\n",
                "- order\\_id (Foreign Key to orders, order\\_items, shipments)\n",
                "- payment\\_method\n",
                "- amount\n",
                "- transactions\\_status\n",
                "\n",
                "  \n",
                "\n",
                "<span style=\"color: var(--vscode-foreground); font-family: -apple-system, BlinkMacSystemFont, sans-serif;\">products</span>  \n",
                "\n",
                "- product\\_id (Foreign Key to order\\_items, reviews)\n",
                "- <span style=\"font-family: -apple-system, BlinkMacSystemFont, sans-serif; color: var(--vscode-foreground);\">product_name</span>\n",
                "- category\n",
                "- price\n",
                "- supplier\\_id (Foriegn Key to suppliers) \n",
                "\n",
                "  \n",
                "\n",
                "<span style=\"font-family: -apple-system, BlinkMacSystemFont, sans-serif; color: var(--vscode-foreground);\">reviews</span>  \n",
                "\n",
                "- review\\_id\n",
                "- product\\_id (Foreign Key to order\\_items, products)\n",
                "- customer\\_id (Foriegn Key to customers, orders)\n",
                "- rating\n",
                "- review\\_text\n",
                "- review\\_date\n",
                "\n",
                "  \n",
                "\n",
                "<span style=\"font-family: -apple-system, BlinkMacSystemFont, sans-serif; color: var(--vscode-foreground);\">shipments</span>  \n",
                "\n",
                "- shipment\\_id\n",
                "- order\\_id (Foriegn Key to orders, order\\_items, payment)\n",
                "- shipment\\_date\n",
                "- carrier\n",
                "- tracking\\_number\n",
                "- delivery\\_date\n",
                "- shipment\\_status\n",
                "\n",
                "  \n",
                "\n",
                "<span style=\"font-family: -apple-system, BlinkMacSystemFont, sans-serif; color: var(--vscode-foreground);\">suppliers</span>  \n",
                "\n",
                "- supplier\\_id (Foregin Key to order\\_items, proudcts)\n",
                "- supplier\\_name\n",
                "- contact\\_name\n",
                "- address\n",
                "- phone\\_number\n",
                "- email"
            ],
            "metadata": {
                "azdata_cell_guid": "82745ad6-af3a-46ab-b1d0-6048c3037be8"
            },
            "attachments": {}
        }
    ]
}