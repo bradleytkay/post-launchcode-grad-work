{
    "metadata": {
        "kernelspec": {
            "name": "SQL",
            "display_name": "SQL",
            "language": "sql"
        },
        "language_info": {
            "name": "sql",
            "version": ""
        }
    },
    "nbformat_minor": 2,
    "nbformat": 4,
    "cells": [
        {
            "cell_type": "markdown",
            "source": [
                "## **1\\. Get a high-level understanding of each table in the database.**"
            ],
            "metadata": {
                "azdata_cell_guid": "5af2fca6-8168-4cef-8ca2-c92cd5d6c62f"
            },
            "attachments": {}
        },
        {
            "cell_type": "code",
            "source": [
                "SELECT TOP 5 *\n",
                "FROM OnlineShoppingDB.dbo.customers"
            ],
            "metadata": {
                "azdata_cell_guid": "8f776408-e2e0-40b5-9e2b-20185c314194",
                "language": "sql"
            },
            "outputs": [
                {
                    "output_type": "display_data",
                    "data": {
                        "text/html": "(5 rows affected)"
                    },
                    "metadata": {}
                },
                {
                    "output_type": "display_data",
                    "data": {
                        "text/html": "Total execution time: 00:00:00.007"
                    },
                    "metadata": {}
                },
                {
                    "output_type": "execute_result",
                    "execution_count": 13,
                    "data": {
                        "application/vnd.dataresource+json": {
                            "schema": {
                                "fields": [
                                    {
                                        "name": "customer_id"
                                    },
                                    {
                                        "name": "first_name"
                                    },
                                    {
                                        "name": "last_name"
                                    },
                                    {
                                        "name": "address"
                                    },
                                    {
                                        "name": "email"
                                    },
                                    {
                                        "name": "phone_number"
                                    }
                                ]
                            },
                            "data": [
                                {
                                    "customer_id": "1",
                                    "first_name": "James",
                                    "last_name": "Smith",
                                    "address": "123 Main St, Springfield, IL",
                                    "email": "jsmith1@customer.com",
                                    "phone_number": "555-190-3233"
                                },
                                {
                                    "customer_id": "2",
                                    "first_name": "James",
                                    "last_name": "Johnson",
                                    "address": "123 Main St, Springfield, IL",
                                    "email": "jjohnson2@customer.com",
                                    "phone_number": "555-525-8357"
                                },
                                {
                                    "customer_id": "3",
                                    "first_name": "James",
                                    "last_name": "Williams",
                                    "address": "123 Main St, Springfield, IL",
                                    "email": "jwilliams3@customer.com",
                                    "phone_number": "555-933-4447"
                                },
                                {
                                    "customer_id": "4",
                                    "first_name": "James",
                                    "last_name": "Brown",
                                    "address": "123 Main St, Springfield, IL",
                                    "email": "jbrown4@customer.com",
                                    "phone_number": "555-897-0326"
                                },
                                {
                                    "customer_id": "5",
                                    "first_name": "James",
                                    "last_name": "Jones",
                                    "address": "123 Main St, Springfield, IL",
                                    "email": "jjones5@customer.com",
                                    "phone_number": "555-762-5836"
                                }
                            ]
                        },
                        "text/html": "<table><tr><th>customer_id</th><th>first_name</th><th>last_name</th><th>address</th><th>email</th><th>phone_number</th></tr><tr><td>1</td><td>James</td><td>Smith</td><td>123 Main St, Springfield, IL</td><td>jsmith1@customer.com</td><td>555-190-3233</td></tr><tr><td>2</td><td>James</td><td>Johnson</td><td>123 Main St, Springfield, IL</td><td>jjohnson2@customer.com</td><td>555-525-8357</td></tr><tr><td>3</td><td>James</td><td>Williams</td><td>123 Main St, Springfield, IL</td><td>jwilliams3@customer.com</td><td>555-933-4447</td></tr><tr><td>4</td><td>James</td><td>Brown</td><td>123 Main St, Springfield, IL</td><td>jbrown4@customer.com</td><td>555-897-0326</td></tr><tr><td>5</td><td>James</td><td>Jones</td><td>123 Main St, Springfield, IL</td><td>jjones5@customer.com</td><td>555-762-5836</td></tr></table>"
                    },
                    "metadata": {}
                }
            ],
            "execution_count": 13
        },
        {
            "cell_type": "code",
            "source": [
                "SELECT TOP 5 *\n",
                "FROM OnlineShoppingDB.dbo.orders"
            ],
            "metadata": {
                "azdata_cell_guid": "240cd3ac-6cf7-4b86-8020-054843ecb780",
                "language": "sql"
            },
            "outputs": [
                {
                    "output_type": "display_data",
                    "data": {
                        "text/html": "(5 rows affected)"
                    },
                    "metadata": {}
                },
                {
                    "output_type": "display_data",
                    "data": {
                        "text/html": "Total execution time: 00:00:00.035"
                    },
                    "metadata": {}
                },
                {
                    "output_type": "execute_result",
                    "execution_count": 2,
                    "data": {
                        "application/vnd.dataresource+json": {
                            "schema": {
                                "fields": [
                                    {
                                        "name": "order_id"
                                    },
                                    {
                                        "name": "order_date"
                                    },
                                    {
                                        "name": "customer_id"
                                    },
                                    {
                                        "name": "total_price"
                                    }
                                ]
                            },
                            "data": [
                                {
                                    "order_id": "1",
                                    "order_date": "2024-10-10",
                                    "customer_id": "8002",
                                    "total_price": "165.18"
                                },
                                {
                                    "order_id": "2",
                                    "order_date": "2024-08-25",
                                    "customer_id": "5097",
                                    "total_price": "8314.5"
                                },
                                {
                                    "order_id": "3",
                                    "order_date": "2024-05-21",
                                    "customer_id": "4670",
                                    "total_price": "1775.76"
                                },
                                {
                                    "order_id": "4",
                                    "order_date": "2024-06-05",
                                    "customer_id": "3875",
                                    "total_price": "3916.47"
                                },
                                {
                                    "order_id": "5",
                                    "order_date": "2024-10-29",
                                    "customer_id": "5507",
                                    "total_price": "1478.19"
                                }
                            ]
                        },
                        "text/html": "<table><tr><th>order_id</th><th>order_date</th><th>customer_id</th><th>total_price</th></tr><tr><td>1</td><td>2024-10-10</td><td>8002</td><td>165.18</td></tr><tr><td>2</td><td>2024-08-25</td><td>5097</td><td>8314.5</td></tr><tr><td>3</td><td>2024-05-21</td><td>4670</td><td>1775.76</td></tr><tr><td>4</td><td>2024-06-05</td><td>3875</td><td>3916.47</td></tr><tr><td>5</td><td>2024-10-29</td><td>5507</td><td>1478.19</td></tr></table>"
                    },
                    "metadata": {}
                }
            ],
            "execution_count": 2
        },
        {
            "cell_type": "code",
            "source": [
                "SELECT TOP 5 *\n",
                "FROM OnlineShoppingDB.dbo.order_items"
            ],
            "metadata": {
                "azdata_cell_guid": "9a726d06-31f3-4505-8512-a21083809bff",
                "language": "sql"
            },
            "outputs": [
                {
                    "output_type": "display_data",
                    "data": {
                        "text/html": "(5 rows affected)"
                    },
                    "metadata": {}
                },
                {
                    "output_type": "display_data",
                    "data": {
                        "text/html": "Total execution time: 00:00:00.012"
                    },
                    "metadata": {}
                },
                {
                    "output_type": "execute_result",
                    "execution_count": 3,
                    "data": {
                        "application/vnd.dataresource+json": {
                            "schema": {
                                "fields": [
                                    {
                                        "name": "order_item_id"
                                    },
                                    {
                                        "name": "order_id"
                                    },
                                    {
                                        "name": "product_id"
                                    },
                                    {
                                        "name": "quantity"
                                    },
                                    {
                                        "name": "price_at_purchase"
                                    }
                                ]
                            },
                            "data": [
                                {
                                    "order_item_id": "1",
                                    "order_id": "6550",
                                    "product_id": "1032",
                                    "quantity": "1",
                                    "price_at_purchase": "342.92"
                                },
                                {
                                    "order_item_id": "2",
                                    "order_id": "7324",
                                    "product_id": "1695",
                                    "quantity": "1",
                                    "price_at_purchase": "955.86"
                                },
                                {
                                    "order_item_id": "3",
                                    "order_id": "11952",
                                    "product_id": "1962",
                                    "quantity": "1",
                                    "price_at_purchase": "909.45"
                                },
                                {
                                    "order_item_id": "4",
                                    "order_id": "8938",
                                    "product_id": "1958",
                                    "quantity": "1",
                                    "price_at_purchase": "984.91"
                                },
                                {
                                    "order_item_id": "5",
                                    "order_id": "4238",
                                    "product_id": "1880",
                                    "quantity": "1",
                                    "price_at_purchase": "649.18"
                                }
                            ]
                        },
                        "text/html": "<table><tr><th>order_item_id</th><th>order_id</th><th>product_id</th><th>quantity</th><th>price_at_purchase</th></tr><tr><td>1</td><td>6550</td><td>1032</td><td>1</td><td>342.92</td></tr><tr><td>2</td><td>7324</td><td>1695</td><td>1</td><td>955.86</td></tr><tr><td>3</td><td>11952</td><td>1962</td><td>1</td><td>909.45</td></tr><tr><td>4</td><td>8938</td><td>1958</td><td>1</td><td>984.91</td></tr><tr><td>5</td><td>4238</td><td>1880</td><td>1</td><td>649.18</td></tr></table>"
                    },
                    "metadata": {}
                }
            ],
            "execution_count": 3
        },
        {
            "cell_type": "code",
            "source": [
                "SELECT TOP 5 *\n",
                "FROM OnlineShoppingDB.dbo.payment"
            ],
            "metadata": {
                "azdata_cell_guid": "89a52ece-46dd-464c-8d3a-4df33ae11813",
                "language": "sql"
            },
            "outputs": [
                {
                    "output_type": "display_data",
                    "data": {
                        "text/html": "(5 rows affected)"
                    },
                    "metadata": {}
                },
                {
                    "output_type": "display_data",
                    "data": {
                        "text/html": "Total execution time: 00:00:00.009"
                    },
                    "metadata": {}
                },
                {
                    "output_type": "execute_result",
                    "execution_count": 4,
                    "data": {
                        "application/vnd.dataresource+json": {
                            "schema": {
                                "fields": [
                                    {
                                        "name": "payment_id"
                                    },
                                    {
                                        "name": "order_id"
                                    },
                                    {
                                        "name": "payment_method"
                                    },
                                    {
                                        "name": "amount"
                                    },
                                    {
                                        "name": "transaction_status"
                                    }
                                ]
                            },
                            "data": [
                                {
                                    "payment_id": "1",
                                    "order_id": "1",
                                    "payment_method": "Credit Card",
                                    "amount": "232.15",
                                    "transaction_status": "Completed"
                                },
                                {
                                    "payment_id": "2",
                                    "order_id": "2",
                                    "payment_method": "Credit Card",
                                    "amount": "454.44",
                                    "transaction_status": "Completed"
                                },
                                {
                                    "payment_id": "3",
                                    "order_id": "3",
                                    "payment_method": "Credit Card",
                                    "amount": "26.14",
                                    "transaction_status": "Completed"
                                },
                                {
                                    "payment_id": "4",
                                    "order_id": "4",
                                    "payment_method": "Credit Card",
                                    "amount": "985.7",
                                    "transaction_status": "Completed"
                                },
                                {
                                    "payment_id": "5",
                                    "order_id": "5",
                                    "payment_method": "Credit Card",
                                    "amount": "733.32",
                                    "transaction_status": "Completed"
                                }
                            ]
                        },
                        "text/html": "<table><tr><th>payment_id</th><th>order_id</th><th>payment_method</th><th>amount</th><th>transaction_status</th></tr><tr><td>1</td><td>1</td><td>Credit Card</td><td>232.15</td><td>Completed</td></tr><tr><td>2</td><td>2</td><td>Credit Card</td><td>454.44</td><td>Completed</td></tr><tr><td>3</td><td>3</td><td>Credit Card</td><td>26.14</td><td>Completed</td></tr><tr><td>4</td><td>4</td><td>Credit Card</td><td>985.7</td><td>Completed</td></tr><tr><td>5</td><td>5</td><td>Credit Card</td><td>733.32</td><td>Completed</td></tr></table>"
                    },
                    "metadata": {}
                }
            ],
            "execution_count": 4
        },
        {
            "cell_type": "code",
            "source": [
                "SELECT TOP 5 *\n",
                "FROM OnlineShoppingDB.dbo.products"
            ],
            "metadata": {
                "azdata_cell_guid": "94a91f7f-73c4-476b-80d7-87caa6c8bc8d",
                "language": "sql"
            },
            "outputs": [
                {
                    "output_type": "display_data",
                    "data": {
                        "text/html": "(5 rows affected)"
                    },
                    "metadata": {}
                },
                {
                    "output_type": "display_data",
                    "data": {
                        "text/html": "Total execution time: 00:00:00.006"
                    },
                    "metadata": {}
                },
                {
                    "output_type": "execute_result",
                    "execution_count": 5,
                    "data": {
                        "application/vnd.dataresource+json": {
                            "schema": {
                                "fields": [
                                    {
                                        "name": "product_id"
                                    },
                                    {
                                        "name": "product_name"
                                    },
                                    {
                                        "name": "category"
                                    },
                                    {
                                        "name": "price"
                                    },
                                    {
                                        "name": "supplier_id"
                                    }
                                ]
                            },
                            "data": [
                                {
                                    "product_id": "1",
                                    "product_name": "Office Chair",
                                    "category": "Furniture",
                                    "price": "445.01",
                                    "supplier_id": "501"
                                },
                                {
                                    "product_id": "2",
                                    "product_name": "Coffee Maker",
                                    "category": "Home & Kitchen",
                                    "price": "937.29",
                                    "supplier_id": "502"
                                },
                                {
                                    "product_id": "3",
                                    "product_name": "Document Scanner",
                                    "category": "Electronics",
                                    "price": "940.02",
                                    "supplier_id": "503"
                                },
                                {
                                    "product_id": "4",
                                    "product_name": "Desk Mat",
                                    "category": "Accessories",
                                    "price": "76.11",
                                    "supplier_id": "504"
                                },
                                {
                                    "product_id": "5",
                                    "product_name": "Tablet Stand",
                                    "category": "Accessories",
                                    "price": "388.17",
                                    "supplier_id": "505"
                                }
                            ]
                        },
                        "text/html": "<table><tr><th>product_id</th><th>product_name</th><th>category</th><th>price</th><th>supplier_id</th></tr><tr><td>1</td><td>Office Chair</td><td>Furniture</td><td>445.01</td><td>501</td></tr><tr><td>2</td><td>Coffee Maker</td><td>Home &amp; Kitchen</td><td>937.29</td><td>502</td></tr><tr><td>3</td><td>Document Scanner</td><td>Electronics</td><td>940.02</td><td>503</td></tr><tr><td>4</td><td>Desk Mat</td><td>Accessories</td><td>76.11</td><td>504</td></tr><tr><td>5</td><td>Tablet Stand</td><td>Accessories</td><td>388.17</td><td>505</td></tr></table>"
                    },
                    "metadata": {}
                }
            ],
            "execution_count": 5
        },
        {
            "cell_type": "code",
            "source": [
                "SELECT TOP 5 *\n",
                "FROM OnlineShoppingDB.dbo.reviews"
            ],
            "metadata": {
                "azdata_cell_guid": "35d9ee61-21bb-41d9-a7a8-88295d07fb02",
                "language": "sql"
            },
            "outputs": [
                {
                    "output_type": "display_data",
                    "data": {
                        "text/html": "(5 rows affected)"
                    },
                    "metadata": {}
                },
                {
                    "output_type": "display_data",
                    "data": {
                        "text/html": "Total execution time: 00:00:00.009"
                    },
                    "metadata": {}
                },
                {
                    "output_type": "execute_result",
                    "execution_count": 6,
                    "data": {
                        "application/vnd.dataresource+json": {
                            "schema": {
                                "fields": [
                                    {
                                        "name": "review_id"
                                    },
                                    {
                                        "name": "product_id"
                                    },
                                    {
                                        "name": "customer_id"
                                    },
                                    {
                                        "name": "rating"
                                    },
                                    {
                                        "name": "review_text"
                                    },
                                    {
                                        "name": "review_date"
                                    }
                                ]
                            },
                            "data": [
                                {
                                    "review_id": "1",
                                    "product_id": "16",
                                    "customer_id": "1516",
                                    "rating": "4",
                                    "review_text": "Customer service was excellent, product too.",
                                    "review_date": "2024-03-03"
                                },
                                {
                                    "review_id": "2",
                                    "product_id": "1516",
                                    "customer_id": "1516",
                                    "rating": "4",
                                    "review_text": "Customer service was excellent, product too.",
                                    "review_date": "2024-01-08"
                                },
                                {
                                    "review_id": "3",
                                    "product_id": "1566",
                                    "customer_id": "9066",
                                    "rating": "1",
                                    "review_text": "Basic functionality but reliable.",
                                    "review_date": "2024-03-23"
                                },
                                {
                                    "review_id": "4",
                                    "product_id": "66",
                                    "customer_id": "9066",
                                    "rating": "1",
                                    "review_text": "Basic functionality but reliable.",
                                    "review_date": "2024-03-25"
                                },
                                {
                                    "review_id": "5",
                                    "product_id": "1522",
                                    "customer_id": "1522",
                                    "rating": "3",
                                    "review_text": "Better than similar products I have tried.",
                                    "review_date": "2024-03-03"
                                }
                            ]
                        },
                        "text/html": "<table><tr><th>review_id</th><th>product_id</th><th>customer_id</th><th>rating</th><th>review_text</th><th>review_date</th></tr><tr><td>1</td><td>16</td><td>1516</td><td>4</td><td>Customer service was excellent, product too.</td><td>2024-03-03</td></tr><tr><td>2</td><td>1516</td><td>1516</td><td>4</td><td>Customer service was excellent, product too.</td><td>2024-01-08</td></tr><tr><td>3</td><td>1566</td><td>9066</td><td>1</td><td>Basic functionality but reliable.</td><td>2024-03-23</td></tr><tr><td>4</td><td>66</td><td>9066</td><td>1</td><td>Basic functionality but reliable.</td><td>2024-03-25</td></tr><tr><td>5</td><td>1522</td><td>1522</td><td>3</td><td>Better than similar products I have tried.</td><td>2024-03-03</td></tr></table>"
                    },
                    "metadata": {}
                }
            ],
            "execution_count": 6
        },
        {
            "cell_type": "code",
            "source": [
                "SELECT TOP 5 *\n",
                "FROM OnlineShoppingDB.dbo.shipments"
            ],
            "metadata": {
                "azdata_cell_guid": "9208d9f0-81fe-4721-9b39-dca23a1e0377",
                "language": "sql"
            },
            "outputs": [
                {
                    "output_type": "display_data",
                    "data": {
                        "text/html": "(5 rows affected)"
                    },
                    "metadata": {}
                },
                {
                    "output_type": "display_data",
                    "data": {
                        "text/html": "Total execution time: 00:00:00.007"
                    },
                    "metadata": {}
                },
                {
                    "output_type": "execute_result",
                    "execution_count": 7,
                    "data": {
                        "application/vnd.dataresource+json": {
                            "schema": {
                                "fields": [
                                    {
                                        "name": "shipment_id"
                                    },
                                    {
                                        "name": "order_id"
                                    },
                                    {
                                        "name": "shipment_date"
                                    },
                                    {
                                        "name": "carrier"
                                    },
                                    {
                                        "name": "tracking_number"
                                    },
                                    {
                                        "name": "delivery_date"
                                    },
                                    {
                                        "name": "shipment_status"
                                    }
                                ]
                            },
                            "data": [
                                {
                                    "shipment_id": "1",
                                    "order_id": "1",
                                    "shipment_date": "2024-10-13",
                                    "carrier": "UPS",
                                    "tracking_number": "TRK344284",
                                    "delivery_date": "2024-10-14",
                                    "shipment_status": "Pending"
                                },
                                {
                                    "shipment_id": "2",
                                    "order_id": "2",
                                    "shipment_date": "2024-08-27",
                                    "carrier": "DHL",
                                    "tracking_number": "TRK718398",
                                    "delivery_date": "2024-08-28",
                                    "shipment_status": "Delivered"
                                },
                                {
                                    "shipment_id": "3",
                                    "order_id": "3",
                                    "shipment_date": "2024-05-23",
                                    "carrier": "FedEx",
                                    "tracking_number": "TRK161368",
                                    "delivery_date": "2024-05-31",
                                    "shipment_status": "Pending"
                                },
                                {
                                    "shipment_id": "4",
                                    "order_id": "4",
                                    "shipment_date": "2024-06-06",
                                    "carrier": "UPS",
                                    "tracking_number": "TRK890181",
                                    "delivery_date": "2024-06-10",
                                    "shipment_status": "Pending"
                                },
                                {
                                    "shipment_id": "5",
                                    "order_id": "5",
                                    "shipment_date": "2024-11-03",
                                    "carrier": "DHL",
                                    "tracking_number": "TRK681341",
                                    "delivery_date": "2024-11-08",
                                    "shipment_status": "Delivered"
                                }
                            ]
                        },
                        "text/html": "<table><tr><th>shipment_id</th><th>order_id</th><th>shipment_date</th><th>carrier</th><th>tracking_number</th><th>delivery_date</th><th>shipment_status</th></tr><tr><td>1</td><td>1</td><td>2024-10-13</td><td>UPS</td><td>TRK344284</td><td>2024-10-14</td><td>Pending</td></tr><tr><td>2</td><td>2</td><td>2024-08-27</td><td>DHL</td><td>TRK718398</td><td>2024-08-28</td><td>Delivered</td></tr><tr><td>3</td><td>3</td><td>2024-05-23</td><td>FedEx</td><td>TRK161368</td><td>2024-05-31</td><td>Pending</td></tr><tr><td>4</td><td>4</td><td>2024-06-06</td><td>UPS</td><td>TRK890181</td><td>2024-06-10</td><td>Pending</td></tr><tr><td>5</td><td>5</td><td>2024-11-03</td><td>DHL</td><td>TRK681341</td><td>2024-11-08</td><td>Delivered</td></tr></table>"
                    },
                    "metadata": {}
                }
            ],
            "execution_count": 7
        },
        {
            "cell_type": "code",
            "source": [
                "SELECT TOp 5 *\n",
                "FROM OnlineShoppingDB.dbo.suppliers"
            ],
            "metadata": {
                "azdata_cell_guid": "d3eb8549-dce2-4307-b508-fdc0aea5fc97",
                "language": "sql"
            },
            "outputs": [
                {
                    "output_type": "display_data",
                    "data": {
                        "text/html": "(5 rows affected)"
                    },
                    "metadata": {}
                },
                {
                    "output_type": "display_data",
                    "data": {
                        "text/html": "Total execution time: 00:00:00.007"
                    },
                    "metadata": {}
                },
                {
                    "output_type": "execute_result",
                    "execution_count": 8,
                    "data": {
                        "application/vnd.dataresource+json": {
                            "schema": {
                                "fields": [
                                    {
                                        "name": "supplier_id"
                                    },
                                    {
                                        "name": "supplier_name"
                                    },
                                    {
                                        "name": "contact_name"
                                    },
                                    {
                                        "name": "address"
                                    },
                                    {
                                        "name": "phone_number"
                                    },
                                    {
                                        "name": "email"
                                    }
                                ]
                            },
                            "data": [
                                {
                                    "supplier_id": "501",
                                    "supplier_name": "Dynamic Systems Group",
                                    "contact_name": "Donald Benjamin",
                                    "address": "141 Shore Ln, Island City, MA",
                                    "phone_number": "(555) 484-6922",
                                    "email": "dbenjamin@supplier.com"
                                },
                                {
                                    "supplier_id": "502",
                                    "supplier_name": "Dynamic Systems Group",
                                    "contact_name": "Nicholas Dennis",
                                    "address": "161 Harbor Ln, Bay Point, FM",
                                    "phone_number": "(555) 397-6986",
                                    "email": "ndennis@supplier.com"
                                },
                                {
                                    "supplier_id": "503",
                                    "supplier_name": "Mega Suppliers",
                                    "contact_name": "Catherine Moore",
                                    "address": "151 Pearl St, Seaside, SD",
                                    "phone_number": "(555) 240-4096",
                                    "email": "cmoore@supplier.com"
                                },
                                {
                                    "supplier_id": "504",
                                    "supplier_name": "Tech Supplies Inc.",
                                    "contact_name": "Linda Virginia",
                                    "address": "505 Walnut St, Coast City, OR",
                                    "phone_number": "(555) 624-2518",
                                    "email": "lvirginia@supplier.com"
                                },
                                {
                                    "supplier_id": "505",
                                    "supplier_name": "Ultimate Services",
                                    "contact_name": "Mark Samuel",
                                    "address": "585 Lighthouse Rd, Sea Haven, LA",
                                    "phone_number": "(555) 295-9426",
                                    "email": "msamuel@supplier.com"
                                }
                            ]
                        },
                        "text/html": "<table><tr><th>supplier_id</th><th>supplier_name</th><th>contact_name</th><th>address</th><th>phone_number</th><th>email</th></tr><tr><td>501</td><td>Dynamic Systems Group</td><td>Donald Benjamin</td><td>141 Shore Ln, Island City, MA</td><td>(555) 484-6922</td><td>dbenjamin@supplier.com</td></tr><tr><td>502</td><td>Dynamic Systems Group</td><td>Nicholas Dennis</td><td>161 Harbor Ln, Bay Point, FM</td><td>(555) 397-6986</td><td>ndennis@supplier.com</td></tr><tr><td>503</td><td>Mega Suppliers</td><td>Catherine Moore</td><td>151 Pearl St, Seaside, SD</td><td>(555) 240-4096</td><td>cmoore@supplier.com</td></tr><tr><td>504</td><td>Tech Supplies Inc.</td><td>Linda Virginia</td><td>505 Walnut St, Coast City, OR</td><td>(555) 624-2518</td><td>lvirginia@supplier.com</td></tr><tr><td>505</td><td>Ultimate Services</td><td>Mark Samuel</td><td>585 Lighthouse Rd, Sea Haven, LA</td><td>(555) 295-9426</td><td>msamuel@supplier.com</td></tr></table>"
                    },
                    "metadata": {}
                }
            ],
            "execution_count": 8
        },
        {
            "cell_type": "markdown",
            "source": [
                "### **A. Map out the structure of each table.  Note any potential foreign keys.**\n",
                "\n",
                "customers\n",
                "\n",
                "- cutsomer\\_id (Foreign Key to orders, reviews)\n",
                "- first\\_name\n",
                "- last\\_name \n",
                "- address\n",
                "- email\n",
                "- phone\\_number\n",
                "\n",
                "oders\n",
                "\n",
                "- order\\_id (Foreign Key to order\\_items, payment, shipments)\n",
                "- order\\_date\n",
                "- customer\\_id (Foriegn Key to customers, reviews)\n",
                "- total\\_price\n",
                "\n",
                "<span style=\"font-family: -apple-system, BlinkMacSystemFont, sans-serif; color: var(--vscode-foreground);\">order_items</span>\n",
                "\n",
                "- order\\_item\\_id\n",
                "- order\\_id (Foriegn Key to orders, payment, shipments)\n",
                "- product\\_id (Foreign Key to products, review)\n",
                "- quantity\n",
                "- price\\_at\\_purchase\n",
                "\n",
                "<span style=\"font-family: -apple-system, BlinkMacSystemFont, sans-serif; color: var(--vscode-foreground);\">payment</span>\n",
                "\n",
                "- payment\\_id\n",
                "- order\\_id (Foreign Key to orders, order\\_items, shipments)\n",
                "- payment\\_method\n",
                "- amount\n",
                "- transactions\\_status\n",
                "\n",
                "<span style=\"color: var(--vscode-foreground); font-family: -apple-system, BlinkMacSystemFont, sans-serif;\">products</span>\n",
                "\n",
                "- product\\_id (Foreign Key to order\\_items, reviews)\n",
                "- <span style=\"font-family: -apple-system, BlinkMacSystemFont, sans-serif; color: var(--vscode-foreground);\">product_name</span>\n",
                "- category\n",
                "- price\n",
                "- supplier\\_id (Foriegn Key to suppliers)\n",
                "\n",
                "<span style=\"font-family: -apple-system, BlinkMacSystemFont, sans-serif; color: var(--vscode-foreground);\">reviews</span>\n",
                "\n",
                "- review\\_id\n",
                "- product\\_id (Foreign Key to order\\_items, products)\n",
                "- customer\\_id (Foriegn Key to customers, orders)\n",
                "- rating\n",
                "- review\\_text\n",
                "- review\\_date\n",
                "\n",
                "<span style=\"font-family: -apple-system, BlinkMacSystemFont, sans-serif; color: var(--vscode-foreground);\">shipments</span>\n",
                "\n",
                "- shipment\\_id\n",
                "- order\\_id (Foriegn Key to orders, order\\_items, payment)\n",
                "- shipment\\_date\n",
                "- carrier\n",
                "- tracking\\_number\n",
                "- delivery\\_date\n",
                "- shipment\\_status\n",
                "\n",
                "<span style=\"font-family: -apple-system, BlinkMacSystemFont, sans-serif; color: var(--vscode-foreground);\">suppliers</span>\n",
                "\n",
                "- supplier\\_id (Foregin Key to order\\_items, proudcts)\n",
                "- supplier\\_name\n",
                "- contact\\_name\n",
                "- address\n",
                "- phone\\_number\n",
                "- email"
            ],
            "metadata": {
                "azdata_cell_guid": "82745ad6-af3a-46ab-b1d0-6048c3037be8"
            },
            "attachments": {}
        },
        {
            "cell_type": "markdown",
            "source": [
                "## **2\\. Work within each table individually to gain a deeper understanding of the data.**"
            ],
            "metadata": {
                "azdata_cell_guid": "f906e573-fb7e-4b16-a5d2-dd8763aff56a"
            },
            "attachments": {}
        },
        {
            "cell_type": "markdown",
            "source": [
                "### **A. The customers table.**"
            ],
            "metadata": {
                "azdata_cell_guid": "30f89210-8ddc-447c-98cb-63afdc821ebc"
            },
            "attachments": {}
        },
        {
            "cell_type": "code",
            "source": [
                "SELECT TOP 1 *\n",
                "FROM OnlineShoppingDB.dbo.customers"
            ],
            "metadata": {
                "azdata_cell_guid": "3e39d1b7-4062-40ff-a6c3-cd25217def82",
                "language": "sql"
            },
            "outputs": [
                {
                    "output_type": "display_data",
                    "data": {
                        "text/html": "(1 row affected)"
                    },
                    "metadata": {}
                },
                {
                    "output_type": "display_data",
                    "data": {
                        "text/html": "Total execution time: 00:00:00.097"
                    },
                    "metadata": {}
                },
                {
                    "output_type": "execute_result",
                    "execution_count": 11,
                    "data": {
                        "application/vnd.dataresource+json": {
                            "schema": {
                                "fields": [
                                    {
                                        "name": "customer_id"
                                    },
                                    {
                                        "name": "first_name"
                                    },
                                    {
                                        "name": "last_name"
                                    },
                                    {
                                        "name": "address"
                                    },
                                    {
                                        "name": "email"
                                    },
                                    {
                                        "name": "phone_number"
                                    }
                                ]
                            },
                            "data": [
                                {
                                    "customer_id": "1",
                                    "first_name": "James",
                                    "last_name": "Smith",
                                    "address": "123 Main St, Springfield, IL",
                                    "email": "jsmith1@customer.com",
                                    "phone_number": "555-190-3233"
                                }
                            ]
                        },
                        "text/html": "<table><tr><th>customer_id</th><th>first_name</th><th>last_name</th><th>address</th><th>email</th><th>phone_number</th></tr><tr><td>1</td><td>James</td><td>Smith</td><td>123 Main St, Springfield, IL</td><td>jsmith1@customer.com</td><td>555-190-3233</td></tr></table>"
                    },
                    "metadata": {}
                }
            ],
            "execution_count": 11
        },
        {
            "cell_type": "markdown",
            "source": [
                "**i. All the addresses that I observed in my TOP 5 were the same.  Are there actually unique addresses in this table?**"
            ],
            "metadata": {
                "azdata_cell_guid": "2a4f829b-c0f8-440c-af1c-479ec6f66d1c"
            },
            "attachments": {}
        },
        {
            "cell_type": "code",
            "source": [
                "SELECT COUNT(DISTINCT address) AS num_unique_addresses\n",
                "FROM OnlineShoppingDB.dbo.customers\n",
                "\n",
                "--So, it looks like there are unique addresses in the dataset, there are just lots of people with different\n",
                "--last names listed as living at the same address.  That seems odd..."
            ],
            "metadata": {
                "azdata_cell_guid": "c3d67f3f-f7a3-4f71-9e78-4479bd4cc7c5",
                "language": "sql"
            },
            "outputs": [
                {
                    "output_type": "display_data",
                    "data": {
                        "text/html": "(1 row affected)"
                    },
                    "metadata": {}
                },
                {
                    "output_type": "display_data",
                    "data": {
                        "text/html": "Total execution time: 00:00:00.085"
                    },
                    "metadata": {}
                },
                {
                    "output_type": "execute_result",
                    "execution_count": 14,
                    "data": {
                        "application/vnd.dataresource+json": {
                            "schema": {
                                "fields": [
                                    {
                                        "name": "num_unique_addresses"
                                    }
                                ]
                            },
                            "data": [
                                {
                                    "num_unique_addresses": "59"
                                }
                            ]
                        },
                        "text/html": "<table><tr><th>num_unique_addresses</th></tr><tr><td>59</td></tr></table>"
                    },
                    "metadata": {}
                }
            ],
            "execution_count": 14
        },
        {
            "cell_type": "markdown",
            "source": [
                "**ii. How many unique customers are in this table?**"
            ],
            "metadata": {
                "azdata_cell_guid": "8dcc88c8-1dc1-4d59-babc-48796801e237"
            },
            "attachments": {}
        },
        {
            "cell_type": "code",
            "source": [
                "SELECT COUNT(DISTINCT CONCAT(first_name, ' ', last_name)) AS unique_customers\n",
                "FROM OnlineShoppingDB.dbo.customers"
            ],
            "metadata": {
                "azdata_cell_guid": "ffa5c2b0-6598-43a4-bb1b-5c8821279939",
                "language": "sql"
            },
            "outputs": [
                {
                    "output_type": "display_data",
                    "data": {
                        "text/html": "(1 row affected)"
                    },
                    "metadata": {}
                },
                {
                    "output_type": "display_data",
                    "data": {
                        "text/html": "Total execution time: 00:00:00.099"
                    },
                    "metadata": {}
                },
                {
                    "output_type": "execute_result",
                    "execution_count": 15,
                    "data": {
                        "application/vnd.dataresource+json": {
                            "schema": {
                                "fields": [
                                    {
                                        "name": "unique_customers"
                                    }
                                ]
                            },
                            "data": [
                                {
                                    "unique_customers": "210"
                                }
                            ]
                        },
                        "text/html": "<table><tr><th>unique_customers</th></tr><tr><td>210</td></tr></table>"
                    },
                    "metadata": {}
                }
            ],
            "execution_count": 15
        },
        {
            "cell_type": "markdown",
            "source": [
                "**iii. What address shows up the most times?**"
            ],
            "metadata": {
                "language": "sql",
                "azdata_cell_guid": "0e02e2f2-ecaf-43af-8816-7a4c170d8922"
            },
            "attachments": {}
        },
        {
            "cell_type": "code",
            "source": [
                "SELECT TOP 1 [address], COUNT (*) AS address_count\n",
                "FROM OnlineShoppingDB.dbo.customers \n",
                "GROUP BY [address]\n",
                "ORDER BY address_count DESC\n",
                "\n",
                "--Why is an address showing up 210 times?  Is it an apartment complex, but the different units aren't\n",
                "--included?  "
            ],
            "metadata": {
                "language": "sql",
                "azdata_cell_guid": "fcb77ae3-b922-4d3b-bdf3-de74b0cbf6df"
            },
            "outputs": [
                {
                    "output_type": "display_data",
                    "data": {
                        "text/html": "(1 row affected)"
                    },
                    "metadata": {}
                },
                {
                    "output_type": "display_data",
                    "data": {
                        "text/html": "Total execution time: 00:00:00.025"
                    },
                    "metadata": {}
                },
                {
                    "output_type": "execute_result",
                    "execution_count": 18,
                    "data": {
                        "application/vnd.dataresource+json": {
                            "schema": {
                                "fields": [
                                    {
                                        "name": "address"
                                    },
                                    {
                                        "name": "address_count"
                                    }
                                ]
                            },
                            "data": [
                                {
                                    "address": "888 Beech Rd, Sun City, GA",
                                    "address_count": "210"
                                }
                            ]
                        },
                        "text/html": "<table><tr><th>address</th><th>address_count</th></tr><tr><td>888 Beech Rd, Sun City, GA</td><td>210</td></tr></table>"
                    },
                    "metadata": {}
                }
            ],
            "execution_count": 18
        },
        {
            "cell_type": "markdown",
            "source": [
                "**iv. Are there 210 unique customers associated with 888 Beech Rd, Sun City, GA?**"
            ],
            "metadata": {
                "language": "sql",
                "azdata_cell_guid": "aaec31ab-65ae-4f25-9e27-658b4db445e6"
            },
            "attachments": {}
        },
        {
            "cell_type": "code",
            "source": [
                "SELECT DISTINCT first_name, last_name\n",
                "FROM OnlineShoppingDB.dbo.customers\n",
                "WHERE address = '888 Beech Rd, Sun City, GA'\n",
                "\n",
                "--It appears there actually are.  "
            ],
            "metadata": {
                "language": "sql",
                "azdata_cell_guid": "367d2541-6872-4d8d-b8c1-6cccc93dc29d",
                "tags": []
            },
            "outputs": [
                {
                    "output_type": "display_data",
                    "data": {
                        "text/html": "(210 rows affected)"
                    },
                    "metadata": {}
                },
                {
                    "output_type": "display_data",
                    "data": {
                        "text/html": "Total execution time: 00:00:00.026"
                    },
                    "metadata": {}
                },
                {
                    "output_type": "execute_result",
                    "execution_count": 19,
                    "data": {
                        "application/vnd.dataresource+json": {
                            "schema": {
                                "fields": [
                                    {
                                        "name": "first_name"
                                    },
                                    {
                                        "name": "last_name"
                                    }
                                ]
                            },
                            "data": [
                                {
                                    "first_name": "James",
                                    "last_name": "Abigail"
                                },
                                {
                                    "first_name": "James",
                                    "last_name": "Adam"
                                },
                                {
                                    "first_name": "James",
                                    "last_name": "Alexander"
                                },
                                {
                                    "first_name": "James",
                                    "last_name": "Alice"
                                },
                                {
                                    "first_name": "James",
                                    "last_name": "Amy"
                                },
                                {
                                    "first_name": "James",
                                    "last_name": "Anderson"
                                },
                                {
                                    "first_name": "James",
                                    "last_name": "Anna"
                                },
                                {
                                    "first_name": "James",
                                    "last_name": "Arthur"
                                },
                                {
                                    "first_name": "James",
                                    "last_name": "Benjamin"
                                },
                                {
                                    "first_name": "James",
                                    "last_name": "Brown"
                                },
                                {
                                    "first_name": "James",
                                    "last_name": "Bruce"
                                },
                                {
                                    "first_name": "James",
                                    "last_name": "Christina"
                                },
                                {
                                    "first_name": "James",
                                    "last_name": "Cynthia"
                                },
                                {
                                    "first_name": "James",
                                    "last_name": "Davis"
                                },
                                {
                                    "first_name": "James",
                                    "last_name": "Dennis"
                                },
                                {
                                    "first_name": "James",
                                    "last_name": "Diana"
                                },
                                {
                                    "first_name": "James",
                                    "last_name": "Dorothy"
                                },
                                {
                                    "first_name": "James",
                                    "last_name": "Douglas"
                                },
                                {
                                    "first_name": "James",
                                    "last_name": "Evelyn"
                                },
                                {
                                    "first_name": "James",
                                    "last_name": "Frank"
                                },
                                {
                                    "first_name": "James",
                                    "last_name": "Garcia"
                                },
                                {
                                    "first_name": "James",
                                    "last_name": "Gerald"
                                },
                                {
                                    "first_name": "James",
                                    "last_name": "Gonzalez"
                                },
                                {
                                    "first_name": "James",
                                    "last_name": "Grace"
                                },
                                {
                                    "first_name": "James",
                                    "last_name": "Gregory"
                                },
                                {
                                    "first_name": "James",
                                    "last_name": "Harold"
                                },
                                {
                                    "first_name": "James",
                                    "last_name": "Henry"
                                },
                                {
                                    "first_name": "James",
                                    "last_name": "Hernandez"
                                },
                                {
                                    "first_name": "James",
                                    "last_name": "Isabella"
                                },
                                {
                                    "first_name": "James",
                                    "last_name": "Jackson"
                                },
                                {
                                    "first_name": "James",
                                    "last_name": "Jane"
                                },
                                {
                                    "first_name": "James",
                                    "last_name": "Johnson"
                                },
                                {
                                    "first_name": "James",
                                    "last_name": "Jones"
                                },
                                {
                                    "first_name": "James",
                                    "last_name": "Judith"
                                },
                                {
                                    "first_name": "James",
                                    "last_name": "Julia"
                                },
                                {
                                    "first_name": "James",
                                    "last_name": "Keith"
                                },
                                {
                                    "first_name": "James",
                                    "last_name": "Lauren"
                                },
                                {
                                    "first_name": "James",
                                    "last_name": "Lawrence"
                                },
                                {
                                    "first_name": "James",
                                    "last_name": "Lopez"
                                },
                                {
                                    "first_name": "James",
                                    "last_name": "Madison"
                                },
                                {
                                    "first_name": "James",
                                    "last_name": "Maria"
                                },
                                {
                                    "first_name": "James",
                                    "last_name": "Martin"
                                },
                                {
                                    "first_name": "James",
                                    "last_name": "Martinez"
                                },
                                {
                                    "first_name": "James",
                                    "last_name": "Megan"
                                },
                                {
                                    "first_name": "James",
                                    "last_name": "Miller"
                                },
                                {
                                    "first_name": "James",
                                    "last_name": "Moore"
                                },
                                {
                                    "first_name": "James",
                                    "last_name": "Natalie"
                                },
                                {
                                    "first_name": "James",
                                    "last_name": "Nicole"
                                },
                                {
                                    "first_name": "James",
                                    "last_name": "Patrick"
                                },
                                {
                                    "first_name": "James",
                                    "last_name": "Peter"
                                },
                                {
                                    "first_name": "James",
                                    "last_name": "Philip"
                                },
                                {
                                    "first_name": "James",
                                    "last_name": "Ralph"
                                },
                                {
                                    "first_name": "James",
                                    "last_name": "Raymond"
                                },
                                {
                                    "first_name": "James",
                                    "last_name": "Rodriguez"
                                },
                                {
                                    "first_name": "James",
                                    "last_name": "Roger"
                                },
                                {
                                    "first_name": "James",
                                    "last_name": "Rose"
                                },
                                {
                                    "first_name": "James",
                                    "last_name": "Ruth"
                                },
                                {
                                    "first_name": "James",
                                    "last_name": "Samuel"
                                },
                                {
                                    "first_name": "James",
                                    "last_name": "Scott"
                                },
                                {
                                    "first_name": "James",
                                    "last_name": "Smith"
                                },
                                {
                                    "first_name": "James",
                                    "last_name": "Sophia"
                                },
                                {
                                    "first_name": "James",
                                    "last_name": "Taylor"
                                },
                                {
                                    "first_name": "James",
                                    "last_name": "Terry"
                                },
                                {
                                    "first_name": "James",
                                    "last_name": "Thomas"
                                },
                                {
                                    "first_name": "James",
                                    "last_name": "Victoria"
                                },
                                {
                                    "first_name": "James",
                                    "last_name": "Virginia"
                                },
                                {
                                    "first_name": "James",
                                    "last_name": "Walter"
                                },
                                {
                                    "first_name": "James",
                                    "last_name": "Wayne"
                                },
                                {
                                    "first_name": "James",
                                    "last_name": "Williams"
                                },
                                {
                                    "first_name": "James",
                                    "last_name": "Wilson"
                                },
                                {
                                    "first_name": "John",
                                    "last_name": "Abigail"
                                },
                                {
                                    "first_name": "John",
                                    "last_name": "Adam"
                                },
                                {
                                    "first_name": "John",
                                    "last_name": "Alexander"
                                },
                                {
                                    "first_name": "John",
                                    "last_name": "Alice"
                                },
                                {
                                    "first_name": "John",
                                    "last_name": "Amy"
                                },
                                {
                                    "first_name": "John",
                                    "last_name": "Anderson"
                                },
                                {
                                    "first_name": "John",
                                    "last_name": "Anna"
                                },
                                {
                                    "first_name": "John",
                                    "last_name": "Arthur"
                                },
                                {
                                    "first_name": "John",
                                    "last_name": "Benjamin"
                                },
                                {
                                    "first_name": "John",
                                    "last_name": "Brown"
                                },
                                {
                                    "first_name": "John",
                                    "last_name": "Bruce"
                                },
                                {
                                    "first_name": "John",
                                    "last_name": "Christina"
                                },
                                {
                                    "first_name": "John",
                                    "last_name": "Cynthia"
                                },
                                {
                                    "first_name": "John",
                                    "last_name": "Davis"
                                },
                                {
                                    "first_name": "John",
                                    "last_name": "Dennis"
                                },
                                {
                                    "first_name": "John",
                                    "last_name": "Diana"
                                },
                                {
                                    "first_name": "John",
                                    "last_name": "Dorothy"
                                },
                                {
                                    "first_name": "John",
                                    "last_name": "Douglas"
                                },
                                {
                                    "first_name": "John",
                                    "last_name": "Evelyn"
                                },
                                {
                                    "first_name": "John",
                                    "last_name": "Frank"
                                },
                                {
                                    "first_name": "John",
                                    "last_name": "Garcia"
                                },
                                {
                                    "first_name": "John",
                                    "last_name": "Gerald"
                                },
                                {
                                    "first_name": "John",
                                    "last_name": "Gonzalez"
                                },
                                {
                                    "first_name": "John",
                                    "last_name": "Grace"
                                },
                                {
                                    "first_name": "John",
                                    "last_name": "Gregory"
                                },
                                {
                                    "first_name": "John",
                                    "last_name": "Harold"
                                },
                                {
                                    "first_name": "John",
                                    "last_name": "Henry"
                                },
                                {
                                    "first_name": "John",
                                    "last_name": "Hernandez"
                                },
                                {
                                    "first_name": "John",
                                    "last_name": "Isabella"
                                },
                                {
                                    "first_name": "John",
                                    "last_name": "Jackson"
                                },
                                {
                                    "first_name": "John",
                                    "last_name": "Jane"
                                },
                                {
                                    "first_name": "John",
                                    "last_name": "Johnson"
                                },
                                {
                                    "first_name": "John",
                                    "last_name": "Jones"
                                },
                                {
                                    "first_name": "John",
                                    "last_name": "Judith"
                                },
                                {
                                    "first_name": "John",
                                    "last_name": "Julia"
                                },
                                {
                                    "first_name": "John",
                                    "last_name": "Keith"
                                },
                                {
                                    "first_name": "John",
                                    "last_name": "Lauren"
                                },
                                {
                                    "first_name": "John",
                                    "last_name": "Lawrence"
                                },
                                {
                                    "first_name": "John",
                                    "last_name": "Lopez"
                                },
                                {
                                    "first_name": "John",
                                    "last_name": "Madison"
                                },
                                {
                                    "first_name": "John",
                                    "last_name": "Maria"
                                },
                                {
                                    "first_name": "John",
                                    "last_name": "Martin"
                                },
                                {
                                    "first_name": "John",
                                    "last_name": "Martinez"
                                },
                                {
                                    "first_name": "John",
                                    "last_name": "Megan"
                                },
                                {
                                    "first_name": "John",
                                    "last_name": "Miller"
                                },
                                {
                                    "first_name": "John",
                                    "last_name": "Moore"
                                },
                                {
                                    "first_name": "John",
                                    "last_name": "Natalie"
                                },
                                {
                                    "first_name": "John",
                                    "last_name": "Nicole"
                                },
                                {
                                    "first_name": "John",
                                    "last_name": "Patrick"
                                },
                                {
                                    "first_name": "John",
                                    "last_name": "Peter"
                                },
                                {
                                    "first_name": "John",
                                    "last_name": "Philip"
                                },
                                {
                                    "first_name": "John",
                                    "last_name": "Ralph"
                                },
                                {
                                    "first_name": "John",
                                    "last_name": "Raymond"
                                },
                                {
                                    "first_name": "John",
                                    "last_name": "Rodriguez"
                                },
                                {
                                    "first_name": "John",
                                    "last_name": "Roger"
                                },
                                {
                                    "first_name": "John",
                                    "last_name": "Rose"
                                },
                                {
                                    "first_name": "John",
                                    "last_name": "Ruth"
                                },
                                {
                                    "first_name": "John",
                                    "last_name": "Samuel"
                                },
                                {
                                    "first_name": "John",
                                    "last_name": "Scott"
                                },
                                {
                                    "first_name": "John",
                                    "last_name": "Smith"
                                },
                                {
                                    "first_name": "John",
                                    "last_name": "Sophia"
                                },
                                {
                                    "first_name": "John",
                                    "last_name": "Taylor"
                                },
                                {
                                    "first_name": "John",
                                    "last_name": "Terry"
                                },
                                {
                                    "first_name": "John",
                                    "last_name": "Thomas"
                                },
                                {
                                    "first_name": "John",
                                    "last_name": "Victoria"
                                },
                                {
                                    "first_name": "John",
                                    "last_name": "Virginia"
                                },
                                {
                                    "first_name": "John",
                                    "last_name": "Walter"
                                },
                                {
                                    "first_name": "John",
                                    "last_name": "Wayne"
                                },
                                {
                                    "first_name": "John",
                                    "last_name": "Williams"
                                },
                                {
                                    "first_name": "John",
                                    "last_name": "Wilson"
                                },
                                {
                                    "first_name": "Mary",
                                    "last_name": "Abigail"
                                },
                                {
                                    "first_name": "Mary",
                                    "last_name": "Adam"
                                },
                                {
                                    "first_name": "Mary",
                                    "last_name": "Alexander"
                                },
                                {
                                    "first_name": "Mary",
                                    "last_name": "Alice"
                                },
                                {
                                    "first_name": "Mary",
                                    "last_name": "Amy"
                                },
                                {
                                    "first_name": "Mary",
                                    "last_name": "Anderson"
                                },
                                {
                                    "first_name": "Mary",
                                    "last_name": "Anna"
                                },
                                {
                                    "first_name": "Mary",
                                    "last_name": "Arthur"
                                },
                                {
                                    "first_name": "Mary",
                                    "last_name": "Benjamin"
                                },
                                {
                                    "first_name": "Mary",
                                    "last_name": "Brown"
                                },
                                {
                                    "first_name": "Mary",
                                    "last_name": "Bruce"
                                },
                                {
                                    "first_name": "Mary",
                                    "last_name": "Christina"
                                },
                                {
                                    "first_name": "Mary",
                                    "last_name": "Cynthia"
                                },
                                {
                                    "first_name": "Mary",
                                    "last_name": "Davis"
                                },
                                {
                                    "first_name": "Mary",
                                    "last_name": "Dennis"
                                },
                                {
                                    "first_name": "Mary",
                                    "last_name": "Diana"
                                },
                                {
                                    "first_name": "Mary",
                                    "last_name": "Dorothy"
                                },
                                {
                                    "first_name": "Mary",
                                    "last_name": "Douglas"
                                },
                                {
                                    "first_name": "Mary",
                                    "last_name": "Evelyn"
                                },
                                {
                                    "first_name": "Mary",
                                    "last_name": "Frank"
                                },
                                {
                                    "first_name": "Mary",
                                    "last_name": "Garcia"
                                },
                                {
                                    "first_name": "Mary",
                                    "last_name": "Gerald"
                                },
                                {
                                    "first_name": "Mary",
                                    "last_name": "Gonzalez"
                                },
                                {
                                    "first_name": "Mary",
                                    "last_name": "Grace"
                                },
                                {
                                    "first_name": "Mary",
                                    "last_name": "Gregory"
                                },
                                {
                                    "first_name": "Mary",
                                    "last_name": "Harold"
                                },
                                {
                                    "first_name": "Mary",
                                    "last_name": "Henry"
                                },
                                {
                                    "first_name": "Mary",
                                    "last_name": "Hernandez"
                                },
                                {
                                    "first_name": "Mary",
                                    "last_name": "Isabella"
                                },
                                {
                                    "first_name": "Mary",
                                    "last_name": "Jackson"
                                },
                                {
                                    "first_name": "Mary",
                                    "last_name": "Jane"
                                },
                                {
                                    "first_name": "Mary",
                                    "last_name": "Johnson"
                                },
                                {
                                    "first_name": "Mary",
                                    "last_name": "Jones"
                                },
                                {
                                    "first_name": "Mary",
                                    "last_name": "Judith"
                                },
                                {
                                    "first_name": "Mary",
                                    "last_name": "Julia"
                                },
                                {
                                    "first_name": "Mary",
                                    "last_name": "Keith"
                                },
                                {
                                    "first_name": "Mary",
                                    "last_name": "Lauren"
                                },
                                {
                                    "first_name": "Mary",
                                    "last_name": "Lawrence"
                                },
                                {
                                    "first_name": "Mary",
                                    "last_name": "Lopez"
                                },
                                {
                                    "first_name": "Mary",
                                    "last_name": "Madison"
                                },
                                {
                                    "first_name": "Mary",
                                    "last_name": "Maria"
                                },
                                {
                                    "first_name": "Mary",
                                    "last_name": "Martin"
                                },
                                {
                                    "first_name": "Mary",
                                    "last_name": "Martinez"
                                },
                                {
                                    "first_name": "Mary",
                                    "last_name": "Megan"
                                },
                                {
                                    "first_name": "Mary",
                                    "last_name": "Miller"
                                },
                                {
                                    "first_name": "Mary",
                                    "last_name": "Moore"
                                },
                                {
                                    "first_name": "Mary",
                                    "last_name": "Natalie"
                                },
                                {
                                    "first_name": "Mary",
                                    "last_name": "Nicole"
                                },
                                {
                                    "first_name": "Mary",
                                    "last_name": "Patrick"
                                },
                                {
                                    "first_name": "Mary",
                                    "last_name": "Peter"
                                },
                                {
                                    "first_name": "Mary",
                                    "last_name": "Philip"
                                },
                                {
                                    "first_name": "Mary",
                                    "last_name": "Ralph"
                                },
                                {
                                    "first_name": "Mary",
                                    "last_name": "Raymond"
                                },
                                {
                                    "first_name": "Mary",
                                    "last_name": "Rodriguez"
                                },
                                {
                                    "first_name": "Mary",
                                    "last_name": "Roger"
                                },
                                {
                                    "first_name": "Mary",
                                    "last_name": "Rose"
                                },
                                {
                                    "first_name": "Mary",
                                    "last_name": "Ruth"
                                },
                                {
                                    "first_name": "Mary",
                                    "last_name": "Samuel"
                                },
                                {
                                    "first_name": "Mary",
                                    "last_name": "Scott"
                                },
                                {
                                    "first_name": "Mary",
                                    "last_name": "Smith"
                                },
                                {
                                    "first_name": "Mary",
                                    "last_name": "Sophia"
                                },
                                {
                                    "first_name": "Mary",
                                    "last_name": "Taylor"
                                },
                                {
                                    "first_name": "Mary",
                                    "last_name": "Terry"
                                },
                                {
                                    "first_name": "Mary",
                                    "last_name": "Thomas"
                                },
                                {
                                    "first_name": "Mary",
                                    "last_name": "Victoria"
                                },
                                {
                                    "first_name": "Mary",
                                    "last_name": "Virginia"
                                },
                                {
                                    "first_name": "Mary",
                                    "last_name": "Walter"
                                },
                                {
                                    "first_name": "Mary",
                                    "last_name": "Wayne"
                                },
                                {
                                    "first_name": "Mary",
                                    "last_name": "Williams"
                                },
                                {
                                    "first_name": "Mary",
                                    "last_name": "Wilson"
                                }
                            ]
                        },
                        "text/html": "<table><tr><th>first_name</th><th>last_name</th></tr><tr><td>James</td><td>Abigail</td></tr><tr><td>James</td><td>Adam</td></tr><tr><td>James</td><td>Alexander</td></tr><tr><td>James</td><td>Alice</td></tr><tr><td>James</td><td>Amy</td></tr><tr><td>James</td><td>Anderson</td></tr><tr><td>James</td><td>Anna</td></tr><tr><td>James</td><td>Arthur</td></tr><tr><td>James</td><td>Benjamin</td></tr><tr><td>James</td><td>Brown</td></tr><tr><td>James</td><td>Bruce</td></tr><tr><td>James</td><td>Christina</td></tr><tr><td>James</td><td>Cynthia</td></tr><tr><td>James</td><td>Davis</td></tr><tr><td>James</td><td>Dennis</td></tr><tr><td>James</td><td>Diana</td></tr><tr><td>James</td><td>Dorothy</td></tr><tr><td>James</td><td>Douglas</td></tr><tr><td>James</td><td>Evelyn</td></tr><tr><td>James</td><td>Frank</td></tr><tr><td>James</td><td>Garcia</td></tr><tr><td>James</td><td>Gerald</td></tr><tr><td>James</td><td>Gonzalez</td></tr><tr><td>James</td><td>Grace</td></tr><tr><td>James</td><td>Gregory</td></tr><tr><td>James</td><td>Harold</td></tr><tr><td>James</td><td>Henry</td></tr><tr><td>James</td><td>Hernandez</td></tr><tr><td>James</td><td>Isabella</td></tr><tr><td>James</td><td>Jackson</td></tr><tr><td>James</td><td>Jane</td></tr><tr><td>James</td><td>Johnson</td></tr><tr><td>James</td><td>Jones</td></tr><tr><td>James</td><td>Judith</td></tr><tr><td>James</td><td>Julia</td></tr><tr><td>James</td><td>Keith</td></tr><tr><td>James</td><td>Lauren</td></tr><tr><td>James</td><td>Lawrence</td></tr><tr><td>James</td><td>Lopez</td></tr><tr><td>James</td><td>Madison</td></tr><tr><td>James</td><td>Maria</td></tr><tr><td>James</td><td>Martin</td></tr><tr><td>James</td><td>Martinez</td></tr><tr><td>James</td><td>Megan</td></tr><tr><td>James</td><td>Miller</td></tr><tr><td>James</td><td>Moore</td></tr><tr><td>James</td><td>Natalie</td></tr><tr><td>James</td><td>Nicole</td></tr><tr><td>James</td><td>Patrick</td></tr><tr><td>James</td><td>Peter</td></tr><tr><td>James</td><td>Philip</td></tr><tr><td>James</td><td>Ralph</td></tr><tr><td>James</td><td>Raymond</td></tr><tr><td>James</td><td>Rodriguez</td></tr><tr><td>James</td><td>Roger</td></tr><tr><td>James</td><td>Rose</td></tr><tr><td>James</td><td>Ruth</td></tr><tr><td>James</td><td>Samuel</td></tr><tr><td>James</td><td>Scott</td></tr><tr><td>James</td><td>Smith</td></tr><tr><td>James</td><td>Sophia</td></tr><tr><td>James</td><td>Taylor</td></tr><tr><td>James</td><td>Terry</td></tr><tr><td>James</td><td>Thomas</td></tr><tr><td>James</td><td>Victoria</td></tr><tr><td>James</td><td>Virginia</td></tr><tr><td>James</td><td>Walter</td></tr><tr><td>James</td><td>Wayne</td></tr><tr><td>James</td><td>Williams</td></tr><tr><td>James</td><td>Wilson</td></tr><tr><td>John</td><td>Abigail</td></tr><tr><td>John</td><td>Adam</td></tr><tr><td>John</td><td>Alexander</td></tr><tr><td>John</td><td>Alice</td></tr><tr><td>John</td><td>Amy</td></tr><tr><td>John</td><td>Anderson</td></tr><tr><td>John</td><td>Anna</td></tr><tr><td>John</td><td>Arthur</td></tr><tr><td>John</td><td>Benjamin</td></tr><tr><td>John</td><td>Brown</td></tr><tr><td>John</td><td>Bruce</td></tr><tr><td>John</td><td>Christina</td></tr><tr><td>John</td><td>Cynthia</td></tr><tr><td>John</td><td>Davis</td></tr><tr><td>John</td><td>Dennis</td></tr><tr><td>John</td><td>Diana</td></tr><tr><td>John</td><td>Dorothy</td></tr><tr><td>John</td><td>Douglas</td></tr><tr><td>John</td><td>Evelyn</td></tr><tr><td>John</td><td>Frank</td></tr><tr><td>John</td><td>Garcia</td></tr><tr><td>John</td><td>Gerald</td></tr><tr><td>John</td><td>Gonzalez</td></tr><tr><td>John</td><td>Grace</td></tr><tr><td>John</td><td>Gregory</td></tr><tr><td>John</td><td>Harold</td></tr><tr><td>John</td><td>Henry</td></tr><tr><td>John</td><td>Hernandez</td></tr><tr><td>John</td><td>Isabella</td></tr><tr><td>John</td><td>Jackson</td></tr><tr><td>John</td><td>Jane</td></tr><tr><td>John</td><td>Johnson</td></tr><tr><td>John</td><td>Jones</td></tr><tr><td>John</td><td>Judith</td></tr><tr><td>John</td><td>Julia</td></tr><tr><td>John</td><td>Keith</td></tr><tr><td>John</td><td>Lauren</td></tr><tr><td>John</td><td>Lawrence</td></tr><tr><td>John</td><td>Lopez</td></tr><tr><td>John</td><td>Madison</td></tr><tr><td>John</td><td>Maria</td></tr><tr><td>John</td><td>Martin</td></tr><tr><td>John</td><td>Martinez</td></tr><tr><td>John</td><td>Megan</td></tr><tr><td>John</td><td>Miller</td></tr><tr><td>John</td><td>Moore</td></tr><tr><td>John</td><td>Natalie</td></tr><tr><td>John</td><td>Nicole</td></tr><tr><td>John</td><td>Patrick</td></tr><tr><td>John</td><td>Peter</td></tr><tr><td>John</td><td>Philip</td></tr><tr><td>John</td><td>Ralph</td></tr><tr><td>John</td><td>Raymond</td></tr><tr><td>John</td><td>Rodriguez</td></tr><tr><td>John</td><td>Roger</td></tr><tr><td>John</td><td>Rose</td></tr><tr><td>John</td><td>Ruth</td></tr><tr><td>John</td><td>Samuel</td></tr><tr><td>John</td><td>Scott</td></tr><tr><td>John</td><td>Smith</td></tr><tr><td>John</td><td>Sophia</td></tr><tr><td>John</td><td>Taylor</td></tr><tr><td>John</td><td>Terry</td></tr><tr><td>John</td><td>Thomas</td></tr><tr><td>John</td><td>Victoria</td></tr><tr><td>John</td><td>Virginia</td></tr><tr><td>John</td><td>Walter</td></tr><tr><td>John</td><td>Wayne</td></tr><tr><td>John</td><td>Williams</td></tr><tr><td>John</td><td>Wilson</td></tr><tr><td>Mary</td><td>Abigail</td></tr><tr><td>Mary</td><td>Adam</td></tr><tr><td>Mary</td><td>Alexander</td></tr><tr><td>Mary</td><td>Alice</td></tr><tr><td>Mary</td><td>Amy</td></tr><tr><td>Mary</td><td>Anderson</td></tr><tr><td>Mary</td><td>Anna</td></tr><tr><td>Mary</td><td>Arthur</td></tr><tr><td>Mary</td><td>Benjamin</td></tr><tr><td>Mary</td><td>Brown</td></tr><tr><td>Mary</td><td>Bruce</td></tr><tr><td>Mary</td><td>Christina</td></tr><tr><td>Mary</td><td>Cynthia</td></tr><tr><td>Mary</td><td>Davis</td></tr><tr><td>Mary</td><td>Dennis</td></tr><tr><td>Mary</td><td>Diana</td></tr><tr><td>Mary</td><td>Dorothy</td></tr><tr><td>Mary</td><td>Douglas</td></tr><tr><td>Mary</td><td>Evelyn</td></tr><tr><td>Mary</td><td>Frank</td></tr><tr><td>Mary</td><td>Garcia</td></tr><tr><td>Mary</td><td>Gerald</td></tr><tr><td>Mary</td><td>Gonzalez</td></tr><tr><td>Mary</td><td>Grace</td></tr><tr><td>Mary</td><td>Gregory</td></tr><tr><td>Mary</td><td>Harold</td></tr><tr><td>Mary</td><td>Henry</td></tr><tr><td>Mary</td><td>Hernandez</td></tr><tr><td>Mary</td><td>Isabella</td></tr><tr><td>Mary</td><td>Jackson</td></tr><tr><td>Mary</td><td>Jane</td></tr><tr><td>Mary</td><td>Johnson</td></tr><tr><td>Mary</td><td>Jones</td></tr><tr><td>Mary</td><td>Judith</td></tr><tr><td>Mary</td><td>Julia</td></tr><tr><td>Mary</td><td>Keith</td></tr><tr><td>Mary</td><td>Lauren</td></tr><tr><td>Mary</td><td>Lawrence</td></tr><tr><td>Mary</td><td>Lopez</td></tr><tr><td>Mary</td><td>Madison</td></tr><tr><td>Mary</td><td>Maria</td></tr><tr><td>Mary</td><td>Martin</td></tr><tr><td>Mary</td><td>Martinez</td></tr><tr><td>Mary</td><td>Megan</td></tr><tr><td>Mary</td><td>Miller</td></tr><tr><td>Mary</td><td>Moore</td></tr><tr><td>Mary</td><td>Natalie</td></tr><tr><td>Mary</td><td>Nicole</td></tr><tr><td>Mary</td><td>Patrick</td></tr><tr><td>Mary</td><td>Peter</td></tr><tr><td>Mary</td><td>Philip</td></tr><tr><td>Mary</td><td>Ralph</td></tr><tr><td>Mary</td><td>Raymond</td></tr><tr><td>Mary</td><td>Rodriguez</td></tr><tr><td>Mary</td><td>Roger</td></tr><tr><td>Mary</td><td>Rose</td></tr><tr><td>Mary</td><td>Ruth</td></tr><tr><td>Mary</td><td>Samuel</td></tr><tr><td>Mary</td><td>Scott</td></tr><tr><td>Mary</td><td>Smith</td></tr><tr><td>Mary</td><td>Sophia</td></tr><tr><td>Mary</td><td>Taylor</td></tr><tr><td>Mary</td><td>Terry</td></tr><tr><td>Mary</td><td>Thomas</td></tr><tr><td>Mary</td><td>Victoria</td></tr><tr><td>Mary</td><td>Virginia</td></tr><tr><td>Mary</td><td>Walter</td></tr><tr><td>Mary</td><td>Wayne</td></tr><tr><td>Mary</td><td>Williams</td></tr><tr><td>Mary</td><td>Wilson</td></tr></table>"
                    },
                    "metadata": {}
                }
            ],
            "execution_count": 19
        },
        {
            "cell_type": "markdown",
            "source": [
                "### **B. The orders table.**"
            ],
            "metadata": {
                "azdata_cell_guid": "bae58b8d-e864-46dc-b559-a62f78cf2193"
            },
            "attachments": {}
        },
        {
            "cell_type": "code",
            "source": [
                "SELECT TOP 1 *\n",
                "FROM OnlineShoppingDB.dbo.orders "
            ],
            "metadata": {
                "azdata_cell_guid": "7795cb63-5238-4004-869c-62a4f63cc863",
                "language": "sql"
            },
            "outputs": [
                {
                    "output_type": "display_data",
                    "data": {
                        "text/html": "(1 row affected)"
                    },
                    "metadata": {}
                },
                {
                    "output_type": "display_data",
                    "data": {
                        "text/html": "Total execution time: 00:00:00.138"
                    },
                    "metadata": {}
                },
                {
                    "output_type": "execute_result",
                    "metadata": {},
                    "execution_count": 1,
                    "data": {
                        "application/vnd.dataresource+json": {
                            "schema": {
                                "fields": [
                                    {
                                        "name": "order_id"
                                    },
                                    {
                                        "name": "order_date"
                                    },
                                    {
                                        "name": "customer_id"
                                    },
                                    {
                                        "name": "total_price"
                                    }
                                ]
                            },
                            "data": [
                                {
                                    "order_id": "1",
                                    "order_date": "2024-10-10",
                                    "customer_id": "8002",
                                    "total_price": "165.18"
                                }
                            ]
                        },
                        "text/html": [
                            "<table>",
                            "<tr><th>order_id</th><th>order_date</th><th>customer_id</th><th>total_price</th></tr>",
                            "<tr><td>1</td><td>2024-10-10</td><td>8002</td><td>165.18</td></tr>",
                            "</table>"
                        ]
                    }
                }
            ],
            "execution_count": 1
        },
        {
            "cell_type": "markdown",
            "source": [
                "**i. What's the earliest date in this table?  The latest?**"
            ],
            "metadata": {
                "language": "sql",
                "azdata_cell_guid": "0bb3998d-b2d0-4ba6-bae3-ded343ceb3db"
            },
            "attachments": {}
        },
        {
            "cell_type": "code",
            "source": [
                "SELECT \n",
                "    MIN(order_date) AS earliest_date, \n",
                "    MAX(order_date) AS latest_date\n",
                "FROM OnlineShoppingDB.dbo.orders"
            ],
            "metadata": {
                "language": "sql",
                "azdata_cell_guid": "799b63e0-3b17-434f-8362-37bc729844f9"
            },
            "outputs": [
                {
                    "output_type": "display_data",
                    "data": {
                        "text/html": "(1 row affected)"
                    },
                    "metadata": {}
                },
                {
                    "output_type": "display_data",
                    "data": {
                        "text/html": "Total execution time: 00:00:00.018"
                    },
                    "metadata": {}
                },
                {
                    "output_type": "execute_result",
                    "metadata": {},
                    "execution_count": 3,
                    "data": {
                        "application/vnd.dataresource+json": {
                            "schema": {
                                "fields": [
                                    {
                                        "name": "earliest_date"
                                    },
                                    {
                                        "name": "latest_date"
                                    }
                                ]
                            },
                            "data": [
                                {
                                    "earliest_date": "2023-11-05",
                                    "latest_date": "2024-11-04"
                                }
                            ]
                        },
                        "text/html": [
                            "<table>",
                            "<tr><th>earliest_date</th><th>latest_date</th></tr>",
                            "<tr><td>2023-11-05</td><td>2024-11-04</td></tr>",
                            "</table>"
                        ]
                    }
                }
            ],
            "execution_count": 3
        },
        {
            "cell_type": "markdown",
            "source": [
                "**ii. What's the highest price in this table?  The lowest?**"
            ],
            "metadata": {
                "language": "sql",
                "azdata_cell_guid": "2d11a67f-4271-439d-8d6c-63d77485f00e"
            },
            "attachments": {}
        },
        {
            "cell_type": "code",
            "source": [
                "SELECT\n",
                "    MIN(total_price) AS lowest_price,\n",
                "    MAX(total_price) AS highest_price\n",
                "FROM OnlineShoppingDB.dbo.orders"
            ],
            "metadata": {
                "language": "sql",
                "azdata_cell_guid": "5ba92890-8923-4dad-8f83-eac569096bc7"
            },
            "outputs": [
                {
                    "output_type": "display_data",
                    "data": {
                        "text/html": "(1 row affected)"
                    },
                    "metadata": {}
                },
                {
                    "output_type": "display_data",
                    "data": {
                        "text/html": "Total execution time: 00:00:00.046"
                    },
                    "metadata": {}
                },
                {
                    "output_type": "execute_result",
                    "metadata": {},
                    "execution_count": 4,
                    "data": {
                        "application/vnd.dataresource+json": {
                            "schema": {
                                "fields": [
                                    {
                                        "name": "lowest_price"
                                    },
                                    {
                                        "name": "highest_price"
                                    }
                                ]
                            },
                            "data": [
                                {
                                    "lowest_price": "20.46",
                                    "highest_price": "10082.72"
                                }
                            ]
                        },
                        "text/html": [
                            "<table>",
                            "<tr><th>lowest_price</th><th>highest_price</th></tr>",
                            "<tr><td>20.46</td><td>10082.72</td></tr>",
                            "</table>"
                        ]
                    }
                }
            ],
            "execution_count": 4
        },
        {
            "cell_type": "markdown",
            "source": [
                "**iii. How many orders are present in this table?**"
            ],
            "metadata": {
                "language": "sql",
                "azdata_cell_guid": "9fd6fe79-964a-4fa2-b914-008bf5171f08"
            },
            "attachments": {}
        },
        {
            "cell_type": "code",
            "source": [
                "SELECT COUNT(order_id) AS num_orders\n",
                "FROM OnlineShoppingDB.dbo.orders\n",
                ""
            ],
            "metadata": {
                "language": "sql",
                "azdata_cell_guid": "9e3b7913-568d-4c3c-8449-d8058fc16cba"
            },
            "outputs": [
                {
                    "output_type": "display_data",
                    "data": {
                        "text/html": "(1 row affected)"
                    },
                    "metadata": {}
                },
                {
                    "output_type": "display_data",
                    "data": {
                        "text/html": "Total execution time: 00:00:00.014"
                    },
                    "metadata": {}
                },
                {
                    "output_type": "execute_result",
                    "metadata": {},
                    "execution_count": 5,
                    "data": {
                        "application/vnd.dataresource+json": {
                            "schema": {
                                "fields": [
                                    {
                                        "name": "num_orders"
                                    }
                                ]
                            },
                            "data": [
                                {
                                    "num_orders": "15000"
                                }
                            ]
                        },
                        "text/html": [
                            "<table>",
                            "<tr><th>num_orders</th></tr>",
                            "<tr><td>15000</td></tr>",
                            "</table>"
                        ]
                    }
                }
            ],
            "execution_count": 5
        },
        {
            "cell_type": "markdown",
            "source": [
                "**iv. Is there a different number of _unique_ orders?**"
            ],
            "metadata": {
                "language": "sql",
                "azdata_cell_guid": "3540e0aa-5c0c-4d73-89ad-e34d35883546"
            },
            "attachments": {}
        },
        {
            "cell_type": "code",
            "source": [
                "SELECT COUNT(DISTINCT order_id) AS num_unique_orders\n",
                "FROM OnlineShoppingDB.dbo.orders\n",
                "\n",
                "--No"
            ],
            "metadata": {
                "language": "sql",
                "azdata_cell_guid": "be757ac1-a3cd-4709-8dcc-7987b1b56894"
            },
            "outputs": [
                {
                    "output_type": "display_data",
                    "data": {
                        "text/html": "(1 row affected)"
                    },
                    "metadata": {}
                },
                {
                    "output_type": "display_data",
                    "data": {
                        "text/html": "Total execution time: 00:00:00.014"
                    },
                    "metadata": {}
                },
                {
                    "output_type": "execute_result",
                    "metadata": {},
                    "execution_count": 9,
                    "data": {
                        "application/vnd.dataresource+json": {
                            "schema": {
                                "fields": [
                                    {
                                        "name": "num_unique_orders"
                                    }
                                ]
                            },
                            "data": [
                                {
                                    "num_unique_orders": "15000"
                                }
                            ]
                        },
                        "text/html": [
                            "<table>",
                            "<tr><th>num_unique_orders</th></tr>",
                            "<tr><td>15000</td></tr>",
                            "</table>"
                        ]
                    }
                }
            ],
            "execution_count": 9
        },
        {
            "cell_type": "markdown",
            "source": [
                "**v. How many customer\\_ids are present in this table?**"
            ],
            "metadata": {
                "language": "sql",
                "azdata_cell_guid": "22ab8b2a-75b3-4eea-aec6-ce1ee5acde06"
            },
            "attachments": {}
        },
        {
            "cell_type": "code",
            "source": [
                "SELECT COUNT(customer_id) AS num_cumstomers\n",
                "FROM OnlineShoppingDB.dbo.orders "
            ],
            "metadata": {
                "language": "sql",
                "azdata_cell_guid": "e3c390ed-6e01-415a-8c15-cf3df0c588bd"
            },
            "outputs": [
                {
                    "output_type": "display_data",
                    "data": {
                        "text/html": "(1 row affected)"
                    },
                    "metadata": {}
                },
                {
                    "output_type": "display_data",
                    "data": {
                        "text/html": "Total execution time: 00:00:00.016"
                    },
                    "metadata": {}
                },
                {
                    "output_type": "execute_result",
                    "metadata": {},
                    "execution_count": 10,
                    "data": {
                        "application/vnd.dataresource+json": {
                            "schema": {
                                "fields": [
                                    {
                                        "name": "num_cumstomers"
                                    }
                                ]
                            },
                            "data": [
                                {
                                    "num_cumstomers": "15000"
                                }
                            ]
                        },
                        "text/html": [
                            "<table>",
                            "<tr><th>num_cumstomers</th></tr>",
                            "<tr><td>15000</td></tr>",
                            "</table>"
                        ]
                    }
                }
            ],
            "execution_count": 10
        },
        {
            "cell_type": "markdown",
            "source": [
                "**vi. Is there a different number of _unique_ customer\\_ids?**"
            ],
            "metadata": {
                "language": "sql",
                "azdata_cell_guid": "a449c9eb-d48f-4aaf-ad3a-7e0f18de263b"
            },
            "attachments": {}
        },
        {
            "cell_type": "code",
            "source": [
                "SELECT COUNT(DISTINCT customer_id) AS num_unique_customers\n",
                "FROM OnlineShoppingDB.dbo.orders \n",
                "\n",
                "--Yes! "
            ],
            "metadata": {
                "language": "sql",
                "azdata_cell_guid": "5e4aed8e-e92b-4ca5-8379-2c26b26f6886"
            },
            "outputs": [
                {
                    "output_type": "display_data",
                    "data": {
                        "text/html": "(1 row affected)"
                    },
                    "metadata": {}
                },
                {
                    "output_type": "display_data",
                    "data": {
                        "text/html": "Total execution time: 00:00:00.032"
                    },
                    "metadata": {}
                },
                {
                    "output_type": "execute_result",
                    "metadata": {},
                    "execution_count": 11,
                    "data": {
                        "application/vnd.dataresource+json": {
                            "schema": {
                                "fields": [
                                    {
                                        "name": "num_unique_customers"
                                    }
                                ]
                            },
                            "data": [
                                {
                                    "num_unique_customers": "10000"
                                }
                            ]
                        },
                        "text/html": [
                            "<table>",
                            "<tr><th>num_unique_customers</th></tr>",
                            "<tr><td>10000</td></tr>",
                            "</table>"
                        ]
                    }
                }
            ],
            "execution_count": 11
        },
        {
            "cell_type": "markdown",
            "source": [
                "### **C. The order-items table.**"
            ],
            "metadata": {
                "azdata_cell_guid": "edbabd4a-3909-4945-961f-67a0f51f1c85"
            },
            "attachments": {}
        },
        {
            "cell_type": "code",
            "source": [
                "SELECT TOP 1 *\n",
                "FROM OnlineShoppingDB.dbo.order_items"
            ],
            "metadata": {
                "azdata_cell_guid": "22b06593-ec9f-4741-83c2-f0d421d583ea",
                "language": "sql"
            },
            "outputs": [
                {
                    "output_type": "display_data",
                    "data": {
                        "text/html": "(1 row affected)"
                    },
                    "metadata": {}
                },
                {
                    "output_type": "display_data",
                    "data": {
                        "text/html": "Total execution time: 00:00:00.053"
                    },
                    "metadata": {}
                },
                {
                    "output_type": "execute_result",
                    "metadata": {},
                    "execution_count": 7,
                    "data": {
                        "application/vnd.dataresource+json": {
                            "schema": {
                                "fields": [
                                    {
                                        "name": "order_item_id"
                                    },
                                    {
                                        "name": "order_id"
                                    },
                                    {
                                        "name": "product_id"
                                    },
                                    {
                                        "name": "quantity"
                                    },
                                    {
                                        "name": "price_at_purchase"
                                    }
                                ]
                            },
                            "data": [
                                {
                                    "order_item_id": "1",
                                    "order_id": "6550",
                                    "product_id": "1032",
                                    "quantity": "1",
                                    "price_at_purchase": "342.92"
                                }
                            ]
                        },
                        "text/html": [
                            "<table>",
                            "<tr><th>order_item_id</th><th>order_id</th><th>product_id</th><th>quantity</th><th>price_at_purchase</th></tr>",
                            "<tr><td>1</td><td>6550</td><td>1032</td><td>1</td><td>342.92</td></tr>",
                            "</table>"
                        ]
                    }
                }
            ],
            "execution_count": 7
        },
        {
            "cell_type": "markdown",
            "source": [
                "**i. How many order\\_Ids are there in this table?**"
            ],
            "metadata": {
                "language": "sql",
                "azdata_cell_guid": "ac184481-61c1-4c82-993e-4dbb67204855"
            },
            "attachments": {}
        },
        {
            "cell_type": "code",
            "source": [
                "SELECT COUNT(order_id) AS num_orders\n",
                "FROM OnlineShoppingDB.dbo.order_items"
            ],
            "metadata": {
                "language": "sql",
                "azdata_cell_guid": "aff1f88d-3498-47e1-8a91-50bae6133e2b"
            },
            "outputs": [
                {
                    "output_type": "display_data",
                    "data": {
                        "text/html": "(1 row affected)"
                    },
                    "metadata": {}
                },
                {
                    "output_type": "display_data",
                    "data": {
                        "text/html": "Total execution time: 00:00:00.010"
                    },
                    "metadata": {}
                },
                {
                    "output_type": "execute_result",
                    "metadata": {},
                    "execution_count": 13,
                    "data": {
                        "application/vnd.dataresource+json": {
                            "schema": {
                                "fields": [
                                    {
                                        "name": "num_orders"
                                    }
                                ]
                            },
                            "data": [
                                {
                                    "num_orders": "20000"
                                }
                            ]
                        },
                        "text/html": [
                            "<table>",
                            "<tr><th>num_orders</th></tr>",
                            "<tr><td>20000</td></tr>",
                            "</table>"
                        ]
                    }
                }
            ],
            "execution_count": 13
        },
        {
            "cell_type": "markdown",
            "source": [
                "**ii. Is there a different number of _unique_ order\\_ids in this table?**"
            ],
            "metadata": {
                "language": "sql",
                "azdata_cell_guid": "b2638813-b262-4502-a7d2-eae9ed8c570d"
            },
            "attachments": {}
        },
        {
            "cell_type": "code",
            "source": [
                "SELECT COUNT(DISTINCT order_id) AS num_unique_orders\n",
                "FROM OnlineShoppingDB.dbo.order_items"
            ],
            "metadata": {
                "language": "sql",
                "azdata_cell_guid": "45b82ab5-9b15-40cc-a8eb-09af63f03350"
            },
            "outputs": [
                {
                    "output_type": "display_data",
                    "data": {
                        "text/html": "(1 row affected)"
                    },
                    "metadata": {}
                },
                {
                    "output_type": "display_data",
                    "data": {
                        "text/html": "Total execution time: 00:00:00.018"
                    },
                    "metadata": {}
                },
                {
                    "output_type": "execute_result",
                    "metadata": {},
                    "execution_count": 15,
                    "data": {
                        "application/vnd.dataresource+json": {
                            "schema": {
                                "fields": [
                                    {
                                        "name": "num_unique_orders"
                                    }
                                ]
                            },
                            "data": [
                                {
                                    "num_unique_orders": "15000"
                                }
                            ]
                        },
                        "text/html": [
                            "<table>",
                            "<tr><th>num_unique_orders</th></tr>",
                            "<tr><td>15000</td></tr>",
                            "</table>"
                        ]
                    }
                }
            ],
            "execution_count": 15
        },
        {
            "cell_type": "markdown",
            "source": [
                "**iii. What is the largest quantity in an order?  The smallest?**"
            ],
            "metadata": {
                "language": "sql",
                "azdata_cell_guid": "64bebd46-23d0-4fcd-9a36-e785837b525d"
            },
            "attachments": {}
        },
        {
            "cell_type": "code",
            "source": [
                "SELECT \n",
                "    MAX(quantity) AS largest_quantity, \n",
                "    MIN(quantity) AS smallest_quantity\n",
                "FROM OnlineShoppingDB.dbo.order_items"
            ],
            "metadata": {
                "language": "sql",
                "azdata_cell_guid": "0944db15-b5de-48c3-bbd5-cb03d53ab437"
            },
            "outputs": [
                {
                    "output_type": "display_data",
                    "data": {
                        "text/html": "(1 row affected)"
                    },
                    "metadata": {}
                },
                {
                    "output_type": "display_data",
                    "data": {
                        "text/html": "Total execution time: 00:00:00.045"
                    },
                    "metadata": {}
                },
                {
                    "output_type": "execute_result",
                    "metadata": {},
                    "execution_count": 16,
                    "data": {
                        "application/vnd.dataresource+json": {
                            "schema": {
                                "fields": [
                                    {
                                        "name": "largest_quantity"
                                    },
                                    {
                                        "name": "smallest_quantity"
                                    }
                                ]
                            },
                            "data": [
                                {
                                    "largest_quantity": "10",
                                    "smallest_quantity": "1"
                                }
                            ]
                        },
                        "text/html": [
                            "<table>",
                            "<tr><th>largest_quantity</th><th>smallest_quantity</th></tr>",
                            "<tr><td>10</td><td>1</td></tr>",
                            "</table>"
                        ]
                    }
                }
            ],
            "execution_count": 16
        },
        {
            "cell_type": "markdown",
            "source": [
                "### **D. The payment table.**"
            ],
            "metadata": {
                "azdata_cell_guid": "69ad4bd6-e802-4b61-a744-34c18c3e377b"
            },
            "attachments": {}
        },
        {
            "cell_type": "code",
            "source": [
                "SELECT TOP 1 *\n",
                "FROM OnlineShoppingDB.dbo.payment"
            ],
            "metadata": {
                "azdata_cell_guid": "2f191b4d-f8a7-405e-8b0e-0874695f706b",
                "language": "sql"
            },
            "outputs": [
                {
                    "output_type": "display_data",
                    "data": {
                        "text/html": "(1 row affected)"
                    },
                    "metadata": {}
                },
                {
                    "output_type": "display_data",
                    "data": {
                        "text/html": "Total execution time: 00:00:00.082"
                    },
                    "metadata": {}
                },
                {
                    "output_type": "execute_result",
                    "metadata": {},
                    "execution_count": 17,
                    "data": {
                        "application/vnd.dataresource+json": {
                            "schema": {
                                "fields": [
                                    {
                                        "name": "payment_id"
                                    },
                                    {
                                        "name": "order_id"
                                    },
                                    {
                                        "name": "payment_method"
                                    },
                                    {
                                        "name": "amount"
                                    },
                                    {
                                        "name": "transaction_status"
                                    }
                                ]
                            },
                            "data": [
                                {
                                    "payment_id": "1",
                                    "order_id": "1",
                                    "payment_method": "Credit Card",
                                    "amount": "232.15",
                                    "transaction_status": "Completed"
                                }
                            ]
                        },
                        "text/html": [
                            "<table>",
                            "<tr><th>payment_id</th><th>order_id</th><th>payment_method</th><th>amount</th><th>transaction_status</th></tr>",
                            "<tr><td>1</td><td>1</td><td>Credit Card</td><td>232.15</td><td>Completed</td></tr>",
                            "</table>"
                        ]
                    }
                }
            ],
            "execution_count": 17
        },
        {
            "cell_type": "markdown",
            "source": [
                "**i. What are the different types of payment\\_method contained in the table?**"
            ],
            "metadata": {
                "language": "sql",
                "azdata_cell_guid": "b3fd6dd9-34a2-4ffb-9547-b9a2f64346e7"
            },
            "attachments": {}
        },
        {
            "cell_type": "code",
            "source": [
                "SELECT DISTINCT payment_method\n",
                "FROM OnlineShoppingDB.dbo.payment\n",
                "\n",
                "--There's only 1?  I guess that makes sense, given that this is *online* shopping! "
            ],
            "metadata": {
                "language": "sql",
                "azdata_cell_guid": "c6adb561-8a0d-4b01-a052-b2ec202c95ee"
            },
            "outputs": [
                {
                    "output_type": "display_data",
                    "data": {
                        "text/html": "(1 row affected)"
                    },
                    "metadata": {}
                },
                {
                    "output_type": "display_data",
                    "data": {
                        "text/html": "Total execution time: 00:00:00.106"
                    },
                    "metadata": {}
                },
                {
                    "output_type": "execute_result",
                    "metadata": {},
                    "execution_count": 18,
                    "data": {
                        "application/vnd.dataresource+json": {
                            "schema": {
                                "fields": [
                                    {
                                        "name": "payment_method"
                                    }
                                ]
                            },
                            "data": [
                                {
                                    "payment_method": "Credit Card"
                                }
                            ]
                        },
                        "text/html": [
                            "<table>",
                            "<tr><th>payment_method</th></tr>",
                            "<tr><td>Credit Card</td></tr>",
                            "</table>"
                        ]
                    }
                }
            ],
            "execution_count": 18
        },
        {
            "cell_type": "markdown",
            "source": [
                "**ii. What about types of transaction\\_status?**"
            ],
            "metadata": {
                "language": "sql",
                "azdata_cell_guid": "f70fcf92-80ed-450f-aad6-03ac2c8b3895"
            },
            "attachments": {}
        },
        {
            "cell_type": "code",
            "source": [
                "SELECT DISTINCT transaction_status\n",
                "FROM OnlineShoppingDB.dbo.payment "
            ],
            "metadata": {
                "language": "sql",
                "azdata_cell_guid": "d12f4328-9e0b-4a09-a3ac-c77f5d9b96df"
            },
            "outputs": [
                {
                    "output_type": "display_data",
                    "data": {
                        "text/html": "(3 rows affected)"
                    },
                    "metadata": {}
                },
                {
                    "output_type": "display_data",
                    "data": {
                        "text/html": "Total execution time: 00:00:00.052"
                    },
                    "metadata": {}
                },
                {
                    "output_type": "execute_result",
                    "metadata": {},
                    "execution_count": 19,
                    "data": {
                        "application/vnd.dataresource+json": {
                            "schema": {
                                "fields": [
                                    {
                                        "name": "transaction_status"
                                    }
                                ]
                            },
                            "data": [
                                {
                                    "transaction_status": "Pending"
                                },
                                {
                                    "transaction_status": "Failed"
                                },
                                {
                                    "transaction_status": "Completed"
                                }
                            ]
                        },
                        "text/html": [
                            "<table>",
                            "<tr><th>transaction_status</th></tr>",
                            "<tr><td>Pending</td></tr>",
                            "<tr><td>Failed</td></tr>",
                            "<tr><td>Completed</td></tr>",
                            "</table>"
                        ]
                    }
                }
            ],
            "execution_count": 19
        },
        {
            "cell_type": "markdown",
            "source": [
                "### **E. The products table.**"
            ],
            "metadata": {
                "language": "sql",
                "azdata_cell_guid": "58e2734d-db79-4214-9ddb-233fb4cb075b"
            },
            "attachments": {}
        },
        {
            "cell_type": "code",
            "source": [
                "SELECT TOP 1 *\n",
                "FROM OnlineShoppingDB.dbo.products"
            ],
            "metadata": {
                "language": "sql",
                "azdata_cell_guid": "9fd00277-d977-4202-b119-f4a93655d00d"
            },
            "outputs": [
                {
                    "output_type": "display_data",
                    "data": {
                        "text/html": "(1 row affected)"
                    },
                    "metadata": {}
                },
                {
                    "output_type": "display_data",
                    "data": {
                        "text/html": "Total execution time: 00:00:00.028"
                    },
                    "metadata": {}
                },
                {
                    "output_type": "execute_result",
                    "metadata": {},
                    "execution_count": 20,
                    "data": {
                        "application/vnd.dataresource+json": {
                            "schema": {
                                "fields": [
                                    {
                                        "name": "product_id"
                                    },
                                    {
                                        "name": "product_name"
                                    },
                                    {
                                        "name": "category"
                                    },
                                    {
                                        "name": "price"
                                    },
                                    {
                                        "name": "supplier_id"
                                    }
                                ]
                            },
                            "data": [
                                {
                                    "product_id": "1",
                                    "product_name": "Office Chair",
                                    "category": "Furniture",
                                    "price": "445.01",
                                    "supplier_id": "501"
                                }
                            ]
                        },
                        "text/html": [
                            "<table>",
                            "<tr><th>product_id</th><th>product_name</th><th>category</th><th>price</th><th>supplier_id</th></tr>",
                            "<tr><td>1</td><td>Office Chair</td><td>Furniture</td><td>445.01</td><td>501</td></tr>",
                            "</table>"
                        ]
                    }
                }
            ],
            "execution_count": 20
        },
        {
            "cell_type": "markdown",
            "source": [
                "**i. How many different product\\_name are there?**"
            ],
            "metadata": {
                "language": "sql",
                "azdata_cell_guid": "20d8b511-be00-4be6-84cb-230296d01f7c"
            },
            "attachments": {}
        },
        {
            "cell_type": "code",
            "source": [
                "SELECT DISTINCT product_name\n",
                "FROM OnlineShoppingDB.dbo.products "
            ],
            "metadata": {
                "language": "sql",
                "azdata_cell_guid": "75c4c6a4-4a12-45ab-b150-75103dd258a7"
            },
            "outputs": [
                {
                    "output_type": "display_data",
                    "data": {
                        "text/html": "(50 rows affected)"
                    },
                    "metadata": {}
                },
                {
                    "output_type": "display_data",
                    "data": {
                        "text/html": "Total execution time: 00:00:00.047"
                    },
                    "metadata": {}
                },
                {
                    "output_type": "execute_result",
                    "metadata": {},
                    "execution_count": 21,
                    "data": {
                        "application/vnd.dataresource+json": {
                            "schema": {
                                "fields": [
                                    {
                                        "name": "product_name"
                                    }
                                ]
                            },
                            "data": [
                                {
                                    "product_name": "Laptop Sleeve"
                                },
                                {
                                    "product_name": "Storage Containers"
                                },
                                {
                                    "product_name": "Throw Pillows"
                                },
                                {
                                    "product_name": "Bluetooth Headphones"
                                },
                                {
                                    "product_name": "Screen Protector"
                                },
                                {
                                    "product_name": "Smartphone Case"
                                },
                                {
                                    "product_name": "Wireless Charger"
                                },
                                {
                                    "product_name": "Desk Mat"
                                },
                                {
                                    "product_name": "Tablet Stand"
                                },
                                {
                                    "product_name": "Wireless Earbuds"
                                },
                                {
                                    "product_name": "Kitchen Blender"
                                },
                                {
                                    "product_name": "Storage Shelf"
                                },
                                {
                                    "product_name": "Noise Cancelling Headset"
                                },
                                {
                                    "product_name": "Gaming Keyboard"
                                },
                                {
                                    "product_name": "Smart Watch"
                                },
                                {
                                    "product_name": "Cable Organizer"
                                },
                                {
                                    "product_name": "Power Strip"
                                },
                                {
                                    "product_name": "Air Purifier"
                                },
                                {
                                    "product_name": "Bookshelf"
                                },
                                {
                                    "product_name": "Bath Towels"
                                },
                                {
                                    "product_name": "Keyboard Wrist Rest"
                                },
                                {
                                    "product_name": "Coffee Maker"
                                },
                                {
                                    "product_name": "Webcam HD"
                                },
                                {
                                    "product_name": "Electric Kettle"
                                },
                                {
                                    "product_name": "WiFi Router"
                                },
                                {
                                    "product_name": "Wireless Presenter"
                                },
                                {
                                    "product_name": "File Cabinet"
                                },
                                {
                                    "product_name": "Document Scanner"
                                },
                                {
                                    "product_name": "Mechanical Keyboard"
                                },
                                {
                                    "product_name": "Office Chair"
                                },
                                {
                                    "product_name": "Monitor Stand"
                                },
                                {
                                    "product_name": "Wall Clock"
                                },
                                {
                                    "product_name": "External SSD"
                                },
                                {
                                    "product_name": "Computer Speakers"
                                },
                                {
                                    "product_name": "Desk Organizer"
                                },
                                {
                                    "product_name": "Desk Lamp"
                                },
                                {
                                    "product_name": "USB-C Hub"
                                },
                                {
                                    "product_name": "4K Monitor"
                                },
                                {
                                    "product_name": "Drawer Unit"
                                },
                                {
                                    "product_name": "Laptop Stand"
                                },
                                {
                                    "product_name": "Wireless Mouse"
                                },
                                {
                                    "product_name": "Phone Grip"
                                },
                                {
                                    "product_name": "Rice Cooker"
                                },
                                {
                                    "product_name": "Portable Charger"
                                },
                                {
                                    "product_name": "Water Bottle"
                                },
                                {
                                    "product_name": "Toaster Oven"
                                },
                                {
                                    "product_name": "Food Processor"
                                },
                                {
                                    "product_name": "Standing Desk"
                                },
                                {
                                    "product_name": "Gaming Mouse Pad"
                                },
                                {
                                    "product_name": "Microphone"
                                }
                            ]
                        },
                        "text/html": [
                            "<table>",
                            "<tr><th>product_name</th></tr>",
                            "<tr><td>Laptop Sleeve</td></tr>",
                            "<tr><td>Storage Containers</td></tr>",
                            "<tr><td>Throw Pillows</td></tr>",
                            "<tr><td>Bluetooth Headphones</td></tr>",
                            "<tr><td>Screen Protector</td></tr>",
                            "<tr><td>Smartphone Case</td></tr>",
                            "<tr><td>Wireless Charger</td></tr>",
                            "<tr><td>Desk Mat</td></tr>",
                            "<tr><td>Tablet Stand</td></tr>",
                            "<tr><td>Wireless Earbuds</td></tr>",
                            "<tr><td>Kitchen Blender</td></tr>",
                            "<tr><td>Storage Shelf</td></tr>",
                            "<tr><td>Noise Cancelling Headset</td></tr>",
                            "<tr><td>Gaming Keyboard</td></tr>",
                            "<tr><td>Smart Watch</td></tr>",
                            "<tr><td>Cable Organizer</td></tr>",
                            "<tr><td>Power Strip</td></tr>",
                            "<tr><td>Air Purifier</td></tr>",
                            "<tr><td>Bookshelf</td></tr>",
                            "<tr><td>Bath Towels</td></tr>",
                            "<tr><td>Keyboard Wrist Rest</td></tr>",
                            "<tr><td>Coffee Maker</td></tr>",
                            "<tr><td>Webcam HD</td></tr>",
                            "<tr><td>Electric Kettle</td></tr>",
                            "<tr><td>WiFi Router</td></tr>",
                            "<tr><td>Wireless Presenter</td></tr>",
                            "<tr><td>File Cabinet</td></tr>",
                            "<tr><td>Document Scanner</td></tr>",
                            "<tr><td>Mechanical Keyboard</td></tr>",
                            "<tr><td>Office Chair</td></tr>",
                            "<tr><td>Monitor Stand</td></tr>",
                            "<tr><td>Wall Clock</td></tr>",
                            "<tr><td>External SSD</td></tr>",
                            "<tr><td>Computer Speakers</td></tr>",
                            "<tr><td>Desk Organizer</td></tr>",
                            "<tr><td>Desk Lamp</td></tr>",
                            "<tr><td>USB-C Hub</td></tr>",
                            "<tr><td>4K Monitor</td></tr>",
                            "<tr><td>Drawer Unit</td></tr>",
                            "<tr><td>Laptop Stand</td></tr>",
                            "<tr><td>Wireless Mouse</td></tr>",
                            "<tr><td>Phone Grip</td></tr>",
                            "<tr><td>Rice Cooker</td></tr>",
                            "<tr><td>Portable Charger</td></tr>",
                            "<tr><td>Water Bottle</td></tr>",
                            "<tr><td>Toaster Oven</td></tr>",
                            "<tr><td>Food Processor</td></tr>",
                            "<tr><td>Standing Desk</td></tr>",
                            "<tr><td>Gaming Mouse Pad</td></tr>",
                            "<tr><td>Microphone</td></tr>",
                            "</table>"
                        ]
                    }
                }
            ],
            "execution_count": 21
        },
        {
            "cell_type": "markdown",
            "source": [
                "**ii. How many different category are there?**"
            ],
            "metadata": {
                "language": "sql",
                "azdata_cell_guid": "71cbb18f-ceaa-403e-bae7-5cf0afc41711"
            },
            "attachments": {}
        },
        {
            "cell_type": "code",
            "source": [
                "SELECT DISTINCT category\n",
                "FROM OnlineShoppingDB.dbo.products "
            ],
            "metadata": {
                "language": "sql",
                "azdata_cell_guid": "0a459713-4c4d-4580-b0ef-d9dcc7dbcb4d"
            },
            "outputs": [
                {
                    "output_type": "display_data",
                    "data": {
                        "text/html": "(4 rows affected)"
                    },
                    "metadata": {}
                },
                {
                    "output_type": "display_data",
                    "data": {
                        "text/html": "Total execution time: 00:00:00.027"
                    },
                    "metadata": {}
                },
                {
                    "output_type": "execute_result",
                    "metadata": {},
                    "execution_count": 22,
                    "data": {
                        "application/vnd.dataresource+json": {
                            "schema": {
                                "fields": [
                                    {
                                        "name": "category"
                                    }
                                ]
                            },
                            "data": [
                                {
                                    "category": "Accessories"
                                },
                                {
                                    "category": "Electronics"
                                },
                                {
                                    "category": "Furniture"
                                },
                                {
                                    "category": "Home & Kitchen"
                                }
                            ]
                        },
                        "text/html": [
                            "<table>",
                            "<tr><th>category</th></tr>",
                            "<tr><td>Accessories</td></tr>",
                            "<tr><td>Electronics</td></tr>",
                            "<tr><td>Furniture</td></tr>",
                            "<tr><td>Home &amp; Kitchen</td></tr>",
                            "</table>"
                        ]
                    }
                }
            ],
            "execution_count": 22
        },
        {
            "cell_type": "markdown",
            "source": [
                "**iii. How many different supplier\\_id are there?**"
            ],
            "metadata": {
                "language": "sql",
                "azdata_cell_guid": "8cf225cf-f377-4373-a5e4-011c9100c591"
            },
            "attachments": {}
        },
        {
            "cell_type": "code",
            "source": [
                "SELECT DISTINCT supplier_id\n",
                "FROM OnlineShoppingDB.dbo.products "
            ],
            "metadata": {
                "language": "sql",
                "azdata_cell_guid": "bd86f54b-e223-47a5-bbc2-0b07376c2ddd"
            },
            "outputs": [
                {
                    "output_type": "display_data",
                    "data": {
                        "text/html": "(100 rows affected)"
                    },
                    "metadata": {}
                },
                {
                    "output_type": "display_data",
                    "data": {
                        "text/html": "Total execution time: 00:00:00.025"
                    },
                    "metadata": {}
                },
                {
                    "output_type": "execute_result",
                    "metadata": {},
                    "execution_count": 23,
                    "data": {
                        "application/vnd.dataresource+json": {
                            "schema": {
                                "fields": [
                                    {
                                        "name": "supplier_id"
                                    }
                                ]
                            },
                            "data": [
                                {
                                    "supplier_id": "593"
                                },
                                {
                                    "supplier_id": "570"
                                },
                                {
                                    "supplier_id": "547"
                                },
                                {
                                    "supplier_id": "524"
                                },
                                {
                                    "supplier_id": "501"
                                },
                                {
                                    "supplier_id": "564"
                                },
                                {
                                    "supplier_id": "576"
                                },
                                {
                                    "supplier_id": "507"
                                },
                                {
                                    "supplier_id": "556"
                                },
                                {
                                    "supplier_id": "530"
                                },
                                {
                                    "supplier_id": "587"
                                },
                                {
                                    "supplier_id": "550"
                                },
                                {
                                    "supplier_id": "544"
                                },
                                {
                                    "supplier_id": "521"
                                },
                                {
                                    "supplier_id": "527"
                                },
                                {
                                    "supplier_id": "573"
                                },
                                {
                                    "supplier_id": "513"
                                },
                                {
                                    "supplier_id": "567"
                                },
                                {
                                    "supplier_id": "510"
                                },
                                {
                                    "supplier_id": "533"
                                },
                                {
                                    "supplier_id": "584"
                                },
                                {
                                    "supplier_id": "553"
                                },
                                {
                                    "supplier_id": "504"
                                },
                                {
                                    "supplier_id": "590"
                                },
                                {
                                    "supplier_id": "596"
                                },
                                {
                                    "supplier_id": "522"
                                },
                                {
                                    "supplier_id": "545"
                                },
                                {
                                    "supplier_id": "516"
                                },
                                {
                                    "supplier_id": "528"
                                },
                                {
                                    "supplier_id": "562"
                                },
                                {
                                    "supplier_id": "568"
                                },
                                {
                                    "supplier_id": "536"
                                },
                                {
                                    "supplier_id": "505"
                                },
                                {
                                    "supplier_id": "579"
                                },
                                {
                                    "supplier_id": "599"
                                },
                                {
                                    "supplier_id": "585"
                                },
                                {
                                    "supplier_id": "542"
                                },
                                {
                                    "supplier_id": "591"
                                },
                                {
                                    "supplier_id": "571"
                                },
                                {
                                    "supplier_id": "548"
                                },
                                {
                                    "supplier_id": "525"
                                },
                                {
                                    "supplier_id": "502"
                                },
                                {
                                    "supplier_id": "519"
                                },
                                {
                                    "supplier_id": "565"
                                },
                                {
                                    "supplier_id": "582"
                                },
                                {
                                    "supplier_id": "559"
                                },
                                {
                                    "supplier_id": "508"
                                },
                                {
                                    "supplier_id": "539"
                                },
                                {
                                    "supplier_id": "551"
                                },
                                {
                                    "supplier_id": "588"
                                },
                                {
                                    "supplier_id": "503"
                                },
                                {
                                    "supplier_id": "574"
                                },
                                {
                                    "supplier_id": "514"
                                },
                                {
                                    "supplier_id": "520"
                                },
                                {
                                    "supplier_id": "566"
                                },
                                {
                                    "supplier_id": "534"
                                },
                                {
                                    "supplier_id": "583"
                                },
                                {
                                    "supplier_id": "511"
                                },
                                {
                                    "supplier_id": "560"
                                },
                                {
                                    "supplier_id": "577"
                                },
                                {
                                    "supplier_id": "554"
                                },
                                {
                                    "supplier_id": "540"
                                },
                                {
                                    "supplier_id": "597"
                                },
                                {
                                    "supplier_id": "546"
                                },
                                {
                                    "supplier_id": "594"
                                },
                                {
                                    "supplier_id": "523"
                                },
                                {
                                    "supplier_id": "563"
                                },
                                {
                                    "supplier_id": "517"
                                },
                                {
                                    "supplier_id": "557"
                                },
                                {
                                    "supplier_id": "531"
                                },
                                {
                                    "supplier_id": "580"
                                },
                                {
                                    "supplier_id": "600"
                                },
                                {
                                    "supplier_id": "586"
                                },
                                {
                                    "supplier_id": "537"
                                },
                                {
                                    "supplier_id": "543"
                                },
                                {
                                    "supplier_id": "595"
                                },
                                {
                                    "supplier_id": "572"
                                },
                                {
                                    "supplier_id": "549"
                                },
                                {
                                    "supplier_id": "526"
                                },
                                {
                                    "supplier_id": "518"
                                },
                                {
                                    "supplier_id": "558"
                                },
                                {
                                    "supplier_id": "581"
                                },
                                {
                                    "supplier_id": "509"
                                },
                                {
                                    "supplier_id": "532"
                                },
                                {
                                    "supplier_id": "552"
                                },
                                {
                                    "supplier_id": "538"
                                },
                                {
                                    "supplier_id": "589"
                                },
                                {
                                    "supplier_id": "569"
                                },
                                {
                                    "supplier_id": "575"
                                },
                                {
                                    "supplier_id": "561"
                                },
                                {
                                    "supplier_id": "515"
                                },
                                {
                                    "supplier_id": "512"
                                },
                                {
                                    "supplier_id": "535"
                                },
                                {
                                    "supplier_id": "555"
                                },
                                {
                                    "supplier_id": "506"
                                },
                                {
                                    "supplier_id": "529"
                                },
                                {
                                    "supplier_id": "578"
                                },
                                {
                                    "supplier_id": "598"
                                },
                                {
                                    "supplier_id": "592"
                                },
                                {
                                    "supplier_id": "541"
                                }
                            ]
                        },
                        "text/html": [
                            "<table>",
                            "<tr><th>supplier_id</th></tr>",
                            "<tr><td>593</td></tr>",
                            "<tr><td>570</td></tr>",
                            "<tr><td>547</td></tr>",
                            "<tr><td>524</td></tr>",
                            "<tr><td>501</td></tr>",
                            "<tr><td>564</td></tr>",
                            "<tr><td>576</td></tr>",
                            "<tr><td>507</td></tr>",
                            "<tr><td>556</td></tr>",
                            "<tr><td>530</td></tr>",
                            "<tr><td>587</td></tr>",
                            "<tr><td>550</td></tr>",
                            "<tr><td>544</td></tr>",
                            "<tr><td>521</td></tr>",
                            "<tr><td>527</td></tr>",
                            "<tr><td>573</td></tr>",
                            "<tr><td>513</td></tr>",
                            "<tr><td>567</td></tr>",
                            "<tr><td>510</td></tr>",
                            "<tr><td>533</td></tr>",
                            "<tr><td>584</td></tr>",
                            "<tr><td>553</td></tr>",
                            "<tr><td>504</td></tr>",
                            "<tr><td>590</td></tr>",
                            "<tr><td>596</td></tr>",
                            "<tr><td>522</td></tr>",
                            "<tr><td>545</td></tr>",
                            "<tr><td>516</td></tr>",
                            "<tr><td>528</td></tr>",
                            "<tr><td>562</td></tr>",
                            "<tr><td>568</td></tr>",
                            "<tr><td>536</td></tr>",
                            "<tr><td>505</td></tr>",
                            "<tr><td>579</td></tr>",
                            "<tr><td>599</td></tr>",
                            "<tr><td>585</td></tr>",
                            "<tr><td>542</td></tr>",
                            "<tr><td>591</td></tr>",
                            "<tr><td>571</td></tr>",
                            "<tr><td>548</td></tr>",
                            "<tr><td>525</td></tr>",
                            "<tr><td>502</td></tr>",
                            "<tr><td>519</td></tr>",
                            "<tr><td>565</td></tr>",
                            "<tr><td>582</td></tr>",
                            "<tr><td>559</td></tr>",
                            "<tr><td>508</td></tr>",
                            "<tr><td>539</td></tr>",
                            "<tr><td>551</td></tr>",
                            "<tr><td>588</td></tr>",
                            "<tr><td>503</td></tr>",
                            "<tr><td>574</td></tr>",
                            "<tr><td>514</td></tr>",
                            "<tr><td>520</td></tr>",
                            "<tr><td>566</td></tr>",
                            "<tr><td>534</td></tr>",
                            "<tr><td>583</td></tr>",
                            "<tr><td>511</td></tr>",
                            "<tr><td>560</td></tr>",
                            "<tr><td>577</td></tr>",
                            "<tr><td>554</td></tr>",
                            "<tr><td>540</td></tr>",
                            "<tr><td>597</td></tr>",
                            "<tr><td>546</td></tr>",
                            "<tr><td>594</td></tr>",
                            "<tr><td>523</td></tr>",
                            "<tr><td>563</td></tr>",
                            "<tr><td>517</td></tr>",
                            "<tr><td>557</td></tr>",
                            "<tr><td>531</td></tr>",
                            "<tr><td>580</td></tr>",
                            "<tr><td>600</td></tr>",
                            "<tr><td>586</td></tr>",
                            "<tr><td>537</td></tr>",
                            "<tr><td>543</td></tr>",
                            "<tr><td>595</td></tr>",
                            "<tr><td>572</td></tr>",
                            "<tr><td>549</td></tr>",
                            "<tr><td>526</td></tr>",
                            "<tr><td>518</td></tr>",
                            "<tr><td>558</td></tr>",
                            "<tr><td>581</td></tr>",
                            "<tr><td>509</td></tr>",
                            "<tr><td>532</td></tr>",
                            "<tr><td>552</td></tr>",
                            "<tr><td>538</td></tr>",
                            "<tr><td>589</td></tr>",
                            "<tr><td>569</td></tr>",
                            "<tr><td>575</td></tr>",
                            "<tr><td>561</td></tr>",
                            "<tr><td>515</td></tr>",
                            "<tr><td>512</td></tr>",
                            "<tr><td>535</td></tr>",
                            "<tr><td>555</td></tr>",
                            "<tr><td>506</td></tr>",
                            "<tr><td>529</td></tr>",
                            "<tr><td>578</td></tr>",
                            "<tr><td>598</td></tr>",
                            "<tr><td>592</td></tr>",
                            "<tr><td>541</td></tr>",
                            "</table>"
                        ]
                    }
                }
            ],
            "execution_count": 23
        },
        {
            "cell_type": "markdown",
            "source": [
                "**iv. What is the most commonly-found product\\_id?**"
            ],
            "metadata": {
                "azdata_cell_guid": "92350d76-2419-4677-aacc-ea24ec587f30"
            },
            "attachments": {}
        },
        {
            "cell_type": "code",
            "source": [
                "SELECT product_name, COUNT(*) AS count_product_name\n",
                "FROM OnlineShoppingDB.dbo.products\n",
                "GROUP BY product_name\n",
                "ORDER BY count_product_name DESC\n",
                "\n",
                "--I guess since this is a made-up table, they just plugged in all the different products\n",
                "--at an equal frequency? "
            ],
            "metadata": {
                "azdata_cell_guid": "34feb024-f69a-49b5-9e83-c1c63038d796",
                "language": "sql",
                "tags": []
            },
            "outputs": [
                {
                    "output_type": "display_data",
                    "data": {
                        "text/html": "(50 rows affected)"
                    },
                    "metadata": {}
                },
                {
                    "output_type": "display_data",
                    "data": {
                        "text/html": "Total execution time: 00:00:00.012"
                    },
                    "metadata": {}
                },
                {
                    "output_type": "execute_result",
                    "metadata": {},
                    "execution_count": 29,
                    "data": {
                        "application/vnd.dataresource+json": {
                            "schema": {
                                "fields": [
                                    {
                                        "name": "product_name"
                                    },
                                    {
                                        "name": "count_product_name"
                                    }
                                ]
                            },
                            "data": [
                                {
                                    "product_name": "Laptop Sleeve",
                                    "count_product_name": "40"
                                },
                                {
                                    "product_name": "Storage Containers",
                                    "count_product_name": "40"
                                },
                                {
                                    "product_name": "Throw Pillows",
                                    "count_product_name": "40"
                                },
                                {
                                    "product_name": "Bluetooth Headphones",
                                    "count_product_name": "40"
                                },
                                {
                                    "product_name": "Screen Protector",
                                    "count_product_name": "40"
                                },
                                {
                                    "product_name": "Smartphone Case",
                                    "count_product_name": "40"
                                },
                                {
                                    "product_name": "Wireless Charger",
                                    "count_product_name": "40"
                                },
                                {
                                    "product_name": "Desk Mat",
                                    "count_product_name": "40"
                                },
                                {
                                    "product_name": "Tablet Stand",
                                    "count_product_name": "40"
                                },
                                {
                                    "product_name": "Wireless Earbuds",
                                    "count_product_name": "40"
                                },
                                {
                                    "product_name": "Kitchen Blender",
                                    "count_product_name": "40"
                                },
                                {
                                    "product_name": "Storage Shelf",
                                    "count_product_name": "40"
                                },
                                {
                                    "product_name": "Noise Cancelling Headset",
                                    "count_product_name": "40"
                                },
                                {
                                    "product_name": "Gaming Keyboard",
                                    "count_product_name": "40"
                                },
                                {
                                    "product_name": "Smart Watch",
                                    "count_product_name": "40"
                                },
                                {
                                    "product_name": "Cable Organizer",
                                    "count_product_name": "40"
                                },
                                {
                                    "product_name": "Power Strip",
                                    "count_product_name": "40"
                                },
                                {
                                    "product_name": "Air Purifier",
                                    "count_product_name": "40"
                                },
                                {
                                    "product_name": "Bookshelf",
                                    "count_product_name": "40"
                                },
                                {
                                    "product_name": "Bath Towels",
                                    "count_product_name": "40"
                                },
                                {
                                    "product_name": "Keyboard Wrist Rest",
                                    "count_product_name": "40"
                                },
                                {
                                    "product_name": "Coffee Maker",
                                    "count_product_name": "40"
                                },
                                {
                                    "product_name": "Webcam HD",
                                    "count_product_name": "40"
                                },
                                {
                                    "product_name": "Electric Kettle",
                                    "count_product_name": "40"
                                },
                                {
                                    "product_name": "WiFi Router",
                                    "count_product_name": "40"
                                },
                                {
                                    "product_name": "Wireless Presenter",
                                    "count_product_name": "40"
                                },
                                {
                                    "product_name": "File Cabinet",
                                    "count_product_name": "40"
                                },
                                {
                                    "product_name": "Document Scanner",
                                    "count_product_name": "40"
                                },
                                {
                                    "product_name": "Mechanical Keyboard",
                                    "count_product_name": "40"
                                },
                                {
                                    "product_name": "Office Chair",
                                    "count_product_name": "40"
                                },
                                {
                                    "product_name": "Monitor Stand",
                                    "count_product_name": "40"
                                },
                                {
                                    "product_name": "Wall Clock",
                                    "count_product_name": "40"
                                },
                                {
                                    "product_name": "External SSD",
                                    "count_product_name": "40"
                                },
                                {
                                    "product_name": "Computer Speakers",
                                    "count_product_name": "40"
                                },
                                {
                                    "product_name": "Desk Organizer",
                                    "count_product_name": "40"
                                },
                                {
                                    "product_name": "Desk Lamp",
                                    "count_product_name": "40"
                                },
                                {
                                    "product_name": "USB-C Hub",
                                    "count_product_name": "40"
                                },
                                {
                                    "product_name": "4K Monitor",
                                    "count_product_name": "40"
                                },
                                {
                                    "product_name": "Drawer Unit",
                                    "count_product_name": "40"
                                },
                                {
                                    "product_name": "Laptop Stand",
                                    "count_product_name": "40"
                                },
                                {
                                    "product_name": "Wireless Mouse",
                                    "count_product_name": "40"
                                },
                                {
                                    "product_name": "Phone Grip",
                                    "count_product_name": "40"
                                },
                                {
                                    "product_name": "Rice Cooker",
                                    "count_product_name": "40"
                                },
                                {
                                    "product_name": "Portable Charger",
                                    "count_product_name": "40"
                                },
                                {
                                    "product_name": "Water Bottle",
                                    "count_product_name": "40"
                                },
                                {
                                    "product_name": "Toaster Oven",
                                    "count_product_name": "40"
                                },
                                {
                                    "product_name": "Food Processor",
                                    "count_product_name": "40"
                                },
                                {
                                    "product_name": "Standing Desk",
                                    "count_product_name": "40"
                                },
                                {
                                    "product_name": "Gaming Mouse Pad",
                                    "count_product_name": "40"
                                },
                                {
                                    "product_name": "Microphone",
                                    "count_product_name": "40"
                                }
                            ]
                        },
                        "text/html": [
                            "<table>",
                            "<tr><th>product_name</th><th>count_product_name</th></tr>",
                            "<tr><td>Laptop Sleeve</td><td>40</td></tr>",
                            "<tr><td>Storage Containers</td><td>40</td></tr>",
                            "<tr><td>Throw Pillows</td><td>40</td></tr>",
                            "<tr><td>Bluetooth Headphones</td><td>40</td></tr>",
                            "<tr><td>Screen Protector</td><td>40</td></tr>",
                            "<tr><td>Smartphone Case</td><td>40</td></tr>",
                            "<tr><td>Wireless Charger</td><td>40</td></tr>",
                            "<tr><td>Desk Mat</td><td>40</td></tr>",
                            "<tr><td>Tablet Stand</td><td>40</td></tr>",
                            "<tr><td>Wireless Earbuds</td><td>40</td></tr>",
                            "<tr><td>Kitchen Blender</td><td>40</td></tr>",
                            "<tr><td>Storage Shelf</td><td>40</td></tr>",
                            "<tr><td>Noise Cancelling Headset</td><td>40</td></tr>",
                            "<tr><td>Gaming Keyboard</td><td>40</td></tr>",
                            "<tr><td>Smart Watch</td><td>40</td></tr>",
                            "<tr><td>Cable Organizer</td><td>40</td></tr>",
                            "<tr><td>Power Strip</td><td>40</td></tr>",
                            "<tr><td>Air Purifier</td><td>40</td></tr>",
                            "<tr><td>Bookshelf</td><td>40</td></tr>",
                            "<tr><td>Bath Towels</td><td>40</td></tr>",
                            "<tr><td>Keyboard Wrist Rest</td><td>40</td></tr>",
                            "<tr><td>Coffee Maker</td><td>40</td></tr>",
                            "<tr><td>Webcam HD</td><td>40</td></tr>",
                            "<tr><td>Electric Kettle</td><td>40</td></tr>",
                            "<tr><td>WiFi Router</td><td>40</td></tr>",
                            "<tr><td>Wireless Presenter</td><td>40</td></tr>",
                            "<tr><td>File Cabinet</td><td>40</td></tr>",
                            "<tr><td>Document Scanner</td><td>40</td></tr>",
                            "<tr><td>Mechanical Keyboard</td><td>40</td></tr>",
                            "<tr><td>Office Chair</td><td>40</td></tr>",
                            "<tr><td>Monitor Stand</td><td>40</td></tr>",
                            "<tr><td>Wall Clock</td><td>40</td></tr>",
                            "<tr><td>External SSD</td><td>40</td></tr>",
                            "<tr><td>Computer Speakers</td><td>40</td></tr>",
                            "<tr><td>Desk Organizer</td><td>40</td></tr>",
                            "<tr><td>Desk Lamp</td><td>40</td></tr>",
                            "<tr><td>USB-C Hub</td><td>40</td></tr>",
                            "<tr><td>4K Monitor</td><td>40</td></tr>",
                            "<tr><td>Drawer Unit</td><td>40</td></tr>",
                            "<tr><td>Laptop Stand</td><td>40</td></tr>",
                            "<tr><td>Wireless Mouse</td><td>40</td></tr>",
                            "<tr><td>Phone Grip</td><td>40</td></tr>",
                            "<tr><td>Rice Cooker</td><td>40</td></tr>",
                            "<tr><td>Portable Charger</td><td>40</td></tr>",
                            "<tr><td>Water Bottle</td><td>40</td></tr>",
                            "<tr><td>Toaster Oven</td><td>40</td></tr>",
                            "<tr><td>Food Processor</td><td>40</td></tr>",
                            "<tr><td>Standing Desk</td><td>40</td></tr>",
                            "<tr><td>Gaming Mouse Pad</td><td>40</td></tr>",
                            "<tr><td>Microphone</td><td>40</td></tr>",
                            "</table>"
                        ]
                    }
                }
            ],
            "execution_count": 29
        },
        {
            "cell_type": "markdown",
            "source": [
                "### **F. The reviews table.**"
            ],
            "metadata": {
                "azdata_cell_guid": "d80e3169-6127-4462-8a5d-4319275c9e82"
            },
            "attachments": {}
        },
        {
            "cell_type": "code",
            "source": [
                "SELECT TOP 1 *\n",
                "FROM OnlineShoppingDB.dbo.reviews"
            ],
            "metadata": {
                "azdata_cell_guid": "3ac799b8-44c8-4f3c-b66a-c4dea5156dd7",
                "language": "sql"
            },
            "outputs": [
                {
                    "output_type": "display_data",
                    "data": {
                        "text/html": "(1 row affected)"
                    },
                    "metadata": {}
                },
                {
                    "output_type": "display_data",
                    "data": {
                        "text/html": "Total execution time: 00:00:00.017"
                    },
                    "metadata": {}
                },
                {
                    "output_type": "execute_result",
                    "metadata": {},
                    "execution_count": 30,
                    "data": {
                        "application/vnd.dataresource+json": {
                            "schema": {
                                "fields": [
                                    {
                                        "name": "review_id"
                                    },
                                    {
                                        "name": "product_id"
                                    },
                                    {
                                        "name": "customer_id"
                                    },
                                    {
                                        "name": "rating"
                                    },
                                    {
                                        "name": "review_text"
                                    },
                                    {
                                        "name": "review_date"
                                    }
                                ]
                            },
                            "data": [
                                {
                                    "review_id": "1",
                                    "product_id": "16",
                                    "customer_id": "1516",
                                    "rating": "4",
                                    "review_text": "Customer service was excellent, product too.",
                                    "review_date": "2024-03-03"
                                }
                            ]
                        },
                        "text/html": [
                            "<table>",
                            "<tr><th>review_id</th><th>product_id</th><th>customer_id</th><th>rating</th><th>review_text</th><th>review_date</th></tr>",
                            "<tr><td>1</td><td>16</td><td>1516</td><td>4</td><td>Customer service was excellent, product too.</td><td>2024-03-03</td></tr>",
                            "</table>"
                        ]
                    }
                }
            ],
            "execution_count": 30
        },
        {
            "cell_type": "markdown",
            "source": [
                "**i. How many times does each rating show up?**"
            ],
            "metadata": {
                "language": "sql",
                "azdata_cell_guid": "c3cd73e1-db58-4f8b-ad8a-1fbaaecc126c"
            },
            "attachments": {}
        },
        {
            "cell_type": "code",
            "source": [
                "SELECT rating, COUNT(*) as count_ratings\n",
                "FROM OnlineShoppingDB.dbo.reviews \n",
                "GROUP BY rating\n",
                "ORDER BY count_ratings DESC"
            ],
            "metadata": {
                "language": "sql",
                "azdata_cell_guid": "12302b53-8a4f-4145-b686-7d1dab32925d"
            },
            "outputs": [
                {
                    "output_type": "display_data",
                    "data": {
                        "text/html": "(5 rows affected)"
                    },
                    "metadata": {}
                },
                {
                    "output_type": "display_data",
                    "data": {
                        "text/html": "Total execution time: 00:00:00.020"
                    },
                    "metadata": {}
                },
                {
                    "output_type": "execute_result",
                    "metadata": {},
                    "execution_count": 31,
                    "data": {
                        "application/vnd.dataresource+json": {
                            "schema": {
                                "fields": [
                                    {
                                        "name": "rating"
                                    },
                                    {
                                        "name": "count_ratings"
                                    }
                                ]
                            },
                            "data": [
                                {
                                    "rating": "1",
                                    "count_ratings": "280"
                                },
                                {
                                    "rating": "2",
                                    "count_ratings": "266"
                                },
                                {
                                    "rating": "3",
                                    "count_ratings": "196"
                                },
                                {
                                    "rating": "5",
                                    "count_ratings": "196"
                                },
                                {
                                    "rating": "4",
                                    "count_ratings": "168"
                                }
                            ]
                        },
                        "text/html": [
                            "<table>",
                            "<tr><th>rating</th><th>count_ratings</th></tr>",
                            "<tr><td>1</td><td>280</td></tr>",
                            "<tr><td>2</td><td>266</td></tr>",
                            "<tr><td>3</td><td>196</td></tr>",
                            "<tr><td>5</td><td>196</td></tr>",
                            "<tr><td>4</td><td>168</td></tr>",
                            "</table>"
                        ]
                    }
                }
            ],
            "execution_count": 31
        },
        {
            "cell_type": "markdown",
            "source": [
                "### **G. The shipments table.**"
            ],
            "metadata": {
                "language": "sql",
                "azdata_cell_guid": "8ca68163-a1ce-416d-8965-1fefbefa59d0"
            },
            "attachments": {}
        },
        {
            "cell_type": "code",
            "source": [
                "SELECT TOP 1 *\n",
                "FROM OnlineShoppingDB.dbo.shipments"
            ],
            "metadata": {
                "language": "sql",
                "azdata_cell_guid": "b52a142c-6cb2-4f4a-9a46-b43374d98c34"
            },
            "outputs": [
                {
                    "output_type": "display_data",
                    "data": {
                        "text/html": "(1 row affected)"
                    },
                    "metadata": {}
                },
                {
                    "output_type": "display_data",
                    "data": {
                        "text/html": "Total execution time: 00:00:00.015"
                    },
                    "metadata": {}
                },
                {
                    "output_type": "execute_result",
                    "metadata": {},
                    "execution_count": 32,
                    "data": {
                        "application/vnd.dataresource+json": {
                            "schema": {
                                "fields": [
                                    {
                                        "name": "shipment_id"
                                    },
                                    {
                                        "name": "order_id"
                                    },
                                    {
                                        "name": "shipment_date"
                                    },
                                    {
                                        "name": "carrier"
                                    },
                                    {
                                        "name": "tracking_number"
                                    },
                                    {
                                        "name": "delivery_date"
                                    },
                                    {
                                        "name": "shipment_status"
                                    }
                                ]
                            },
                            "data": [
                                {
                                    "shipment_id": "1",
                                    "order_id": "1",
                                    "shipment_date": "2024-10-13",
                                    "carrier": "UPS",
                                    "tracking_number": "TRK344284",
                                    "delivery_date": "2024-10-14",
                                    "shipment_status": "Pending"
                                }
                            ]
                        },
                        "text/html": [
                            "<table>",
                            "<tr><th>shipment_id</th><th>order_id</th><th>shipment_date</th><th>carrier</th><th>tracking_number</th><th>delivery_date</th><th>shipment_status</th></tr>",
                            "<tr><td>1</td><td>1</td><td>2024-10-13</td><td>UPS</td><td>TRK344284</td><td>2024-10-14</td><td>Pending</td></tr>",
                            "</table>"
                        ]
                    }
                }
            ],
            "execution_count": 32
        },
        {
            "cell_type": "markdown",
            "source": [
                "**i. What carrier is used the most?  The least?**"
            ],
            "metadata": {
                "language": "sql",
                "azdata_cell_guid": "8b19713b-65f0-4542-89e3-1bda848ae3fb"
            },
            "attachments": {}
        },
        {
            "cell_type": "code",
            "source": [
                "SELECT carrier, COUNT(*) as count_carriers\n",
                "FROM OnlineShoppingDB.dbo.shipments \n",
                "GROUP BY carrier \n",
                "ORDER BY count_carriers DESC \n",
                "\n",
                "--Apparently they didn't bother adding any varience to this variable, either."
            ],
            "metadata": {
                "language": "sql",
                "azdata_cell_guid": "bce2709b-8d81-4610-af52-19ca5a78206d"
            },
            "outputs": [
                {
                    "output_type": "display_data",
                    "data": {
                        "text/html": "(3 rows affected)"
                    },
                    "metadata": {}
                },
                {
                    "output_type": "display_data",
                    "data": {
                        "text/html": "Total execution time: 00:00:00.057"
                    },
                    "metadata": {}
                },
                {
                    "output_type": "execute_result",
                    "metadata": {},
                    "execution_count": 33,
                    "data": {
                        "application/vnd.dataresource+json": {
                            "schema": {
                                "fields": [
                                    {
                                        "name": "carrier"
                                    },
                                    {
                                        "name": "count_carriers"
                                    }
                                ]
                            },
                            "data": [
                                {
                                    "carrier": "UPS",
                                    "count_carriers": "5000"
                                },
                                {
                                    "carrier": "DHL",
                                    "count_carriers": "5000"
                                },
                                {
                                    "carrier": "FedEx",
                                    "count_carriers": "5000"
                                }
                            ]
                        },
                        "text/html": [
                            "<table>",
                            "<tr><th>carrier</th><th>count_carriers</th></tr>",
                            "<tr><td>UPS</td><td>5000</td></tr>",
                            "<tr><td>DHL</td><td>5000</td></tr>",
                            "<tr><td>FedEx</td><td>5000</td></tr>",
                            "</table>"
                        ]
                    }
                }
            ],
            "execution_count": 33
        },
        {
            "cell_type": "markdown",
            "source": [
                "**ii. What shipment status shows up the most?  The least?**"
            ],
            "metadata": {
                "language": "sql",
                "azdata_cell_guid": "dd354365-f0b2-4284-9223-88c57319bff9"
            },
            "attachments": {}
        },
        {
            "cell_type": "code",
            "source": [
                "SELECT shipment_status, COUNT(*) as count_shipment_status\n",
                "FROM OnlineShoppingDB.dbo.shipments \n",
                "GROUP BY shipment_status\n",
                "ORDER BY count_shipment_status DESC"
            ],
            "metadata": {
                "language": "sql",
                "azdata_cell_guid": "c00a4f1b-9080-4908-b3eb-fe86dbe7fd59"
            },
            "outputs": [
                {
                    "output_type": "display_data",
                    "data": {
                        "text/html": "(4 rows affected)"
                    },
                    "metadata": {}
                },
                {
                    "output_type": "display_data",
                    "data": {
                        "text/html": "Total execution time: 00:00:00.032"
                    },
                    "metadata": {}
                },
                {
                    "output_type": "execute_result",
                    "metadata": {},
                    "execution_count": 34,
                    "data": {
                        "application/vnd.dataresource+json": {
                            "schema": {
                                "fields": [
                                    {
                                        "name": "shipment_status"
                                    },
                                    {
                                        "name": "count_shipment_status"
                                    }
                                ]
                            },
                            "data": [
                                {
                                    "shipment_status": "Delivered",
                                    "count_shipment_status": "5374"
                                },
                                {
                                    "shipment_status": "Shipped",
                                    "count_shipment_status": "5337"
                                },
                                {
                                    "shipment_status": "Pending",
                                    "count_shipment_status": "3559"
                                },
                                {
                                    "shipment_status": "Cancelled",
                                    "count_shipment_status": "730"
                                }
                            ]
                        },
                        "text/html": [
                            "<table>",
                            "<tr><th>shipment_status</th><th>count_shipment_status</th></tr>",
                            "<tr><td>Delivered</td><td>5374</td></tr>",
                            "<tr><td>Shipped</td><td>5337</td></tr>",
                            "<tr><td>Pending</td><td>3559</td></tr>",
                            "<tr><td>Cancelled</td><td>730</td></tr>",
                            "</table>"
                        ]
                    }
                }
            ],
            "execution_count": 34
        },
        {
            "cell_type": "markdown",
            "source": [
                "**iii. How long does it take for a product to get delivered, on average?**"
            ],
            "metadata": {
                "language": "sql",
                "azdata_cell_guid": "54f51b4c-d348-4763-88f9-6cd7a58b32e1"
            },
            "attachments": {}
        },
        {
            "cell_type": "code",
            "source": [
                "SELECT AVG(DATEDIFF(DAY, shipment_date, delivery_date)) AS avg_delivery_time\n",
                "FROM OnlineShoppingDB.dbo.shipments\n",
                "WHERE shipment_date IS NOT NULL AND delivery_date IS NOT NULL;"
            ],
            "metadata": {
                "language": "sql",
                "azdata_cell_guid": "26a96075-4760-485e-a170-b54c2124ce85"
            },
            "outputs": [
                {
                    "output_type": "display_data",
                    "data": {
                        "text/html": "(1 row affected)"
                    },
                    "metadata": {}
                },
                {
                    "output_type": "display_data",
                    "data": {
                        "text/html": "Total execution time: 00:00:00.055"
                    },
                    "metadata": {}
                },
                {
                    "output_type": "execute_result",
                    "metadata": {},
                    "execution_count": 36,
                    "data": {
                        "application/vnd.dataresource+json": {
                            "schema": {
                                "fields": [
                                    {
                                        "name": "avg_delivery_time"
                                    }
                                ]
                            },
                            "data": [
                                {
                                    "avg_delivery_time": "4"
                                }
                            ]
                        },
                        "text/html": [
                            "<table>",
                            "<tr><th>avg_delivery_time</th></tr>",
                            "<tr><td>4</td></tr>",
                            "</table>"
                        ]
                    }
                }
            ],
            "execution_count": 36
        },
        {
            "cell_type": "markdown",
            "source": [
                "**iv. What is the longest delivery time?  The shortest?**"
            ],
            "metadata": {
                "language": "sql",
                "azdata_cell_guid": "ec67d2a4-3291-4483-ad32-e092af89cbef"
            },
            "attachments": {}
        },
        {
            "cell_type": "code",
            "source": [
                "SELECT \n",
                "    MAX(DATEDIFF(DAY, shipment_date, delivery_date)) AS longest_delivery_time,\n",
                "    MIN(DATEDIFF(DAY, shipment_date, delivery_date)) AS shortest_delivery_time\n",
                "FROM OnlineShoppingDB.dbo.shipments\n",
                "WHERE shipment_date IS NOT NULL AND delivery_date IS NOT NULL;"
            ],
            "metadata": {
                "language": "sql",
                "azdata_cell_guid": "b0430edf-51b1-492f-85ba-39dadd7bfbb9"
            },
            "outputs": [
                {
                    "output_type": "display_data",
                    "data": {
                        "text/html": "(1 row affected)"
                    },
                    "metadata": {}
                },
                {
                    "output_type": "display_data",
                    "data": {
                        "text/html": "Total execution time: 00:00:00.022"
                    },
                    "metadata": {}
                },
                {
                    "output_type": "execute_result",
                    "metadata": {},
                    "execution_count": 37,
                    "data": {
                        "application/vnd.dataresource+json": {
                            "schema": {
                                "fields": [
                                    {
                                        "name": "longest_delivery_time"
                                    },
                                    {
                                        "name": "shortest_delivery_time"
                                    }
                                ]
                            },
                            "data": [
                                {
                                    "longest_delivery_time": "8",
                                    "shortest_delivery_time": "1"
                                }
                            ]
                        },
                        "text/html": [
                            "<table>",
                            "<tr><th>longest_delivery_time</th><th>shortest_delivery_time</th></tr>",
                            "<tr><td>8</td><td>1</td></tr>",
                            "</table>"
                        ]
                    }
                }
            ],
            "execution_count": 37
        }
    ]
}